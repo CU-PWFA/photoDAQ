{
 "cells": [
  {
   "cell_type": "code",
   "execution_count": 1,
   "metadata": {},
   "outputs": [],
   "source": [
    "import sys\n",
    "sys.path.append('../')\n",
    "import daq\n",
    "import file\n",
    "import globalVAR as Gvar\n",
    "import visa\n",
    "import numpy as np\n",
    "import time\n",
    "from random import randint\n",
    "import PyCapture2 as pc2\n",
    "\n",
    "%load_ext autoreload\n",
    "%autoreload 1"
   ]
  },
  {
   "cell_type": "code",
   "execution_count": 2,
   "metadata": {},
   "outputs": [
    {
     "name": "stdout",
     "output_type": "stream",
     "text": [
      "Spectrometer ID: HR4000,michaelito\n",
      "Device michaelito successfully connected and process started.\n"
     ]
    }
   ],
   "source": [
    "DAQ = daq.Daq(desc='Test Descritpion')\n",
    "DAQ.connect_instr('HR4000', 'michaelito')"
   ]
  },
  {
   "cell_type": "code",
   "execution_count": 5,
   "metadata": {},
   "outputs": [],
   "source": [
    "DAQ.send_command(DAQ.command_queue['michaelito'], 'save_spectrum')"
   ]
  },
  {
   "cell_type": "code",
   "execution_count": 6,
   "metadata": {},
   "outputs": [
    {
     "name": "stdout",
     "output_type": "stream",
     "text": [
      "{'save': True, 'meta': {'INSTR': 'HR4000', 'ID': 'HR4000,michaelito', 'Serial number': 'michaelito', 'Data set': 1812060007, 'Shot number': 1, 'Data type': 'TRACE'}, 't': array([ 194.4687    ,  194.7388045 ,  195.00890201, ..., 1124.93399997,\n",
      "       1125.17234045, 1125.41067048]), 'y': array([2469., 2442., 2557., ..., 2461., 2449., 2468.])}\n",
      "{'INSTR': 'HR4000', 'ID': 'HR4000,michaelito', 'Serial number': 'michaelito', 'Data set': 1812060007, 'Shot number': 1, 'Data type': 'TRACE'}\n"
     ]
    }
   ],
   "source": [
    "data = np.load('/mnt/md0/DAQ/TRACE/year_2018/month_12/day_06/1812060007/HR4000_1812060007_0001.npy').item()\n",
    "print(data)\n",
    "print(data['meta'])"
   ]
  },
  {
   "cell_type": "code",
   "execution_count": 7,
   "metadata": {},
   "outputs": [
    {
     "data": {
      "image/png": "[encoded data removed]",
      "text/plain": [
       "<matplotlib.figure.Figure at 0x7f383886cda0>"
      ]
     },
     "metadata": {},
     "output_type": "display_data"
    }
   ],
   "source": [
    "import matplotlib.pyplot as plt\n",
    "plt.plot(data['t'], data['y'])\n",
    "plt.show()"
   ]
  },
  {
   "cell_type": "code",
   "execution_count": 16,
   "metadata": {},
   "outputs": [],
   "source": [
    "for key in DAQ.instr:\n",
    "    for elem in DAQ.instr[key]:\n",
    "        DAQ.disconnect_instr(key, elem)"
   ]
  },
  {
   "cell_type": "code",
   "execution_count": 4,
   "metadata": {},
   "outputs": [],
   "source": [
    "DAQ.send_command(DAQ.command_queue['michaelito'], 'set_integration_time_microsec', (120,))"
   ]
  },
  {
   "cell_type": "code",
   "execution_count": null,
   "metadata": {},
   "outputs": [],
   "source": []
  }
 ],
 "metadata": {
  "kernelspec": {
   "display_name": "CU-PWFA",
   "language": "python",
   "name": "cu-pwfa"
  },
  "language_info": {
   "codemirror_mode": {
    "name": "ipython",
    "version": 3
   },
   "file_extension": ".py",
   "mimetype": "text/x-python",
   "name": "python",
   "nbconvert_exporter": "python",
   "pygments_lexer": "ipython3",
   "version": "3.6.2"
  }
 },
 "nbformat": 4,
 "nbformat_minor": 2
}

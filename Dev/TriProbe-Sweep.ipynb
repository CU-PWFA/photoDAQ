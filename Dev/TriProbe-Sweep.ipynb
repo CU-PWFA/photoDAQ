{
 "cells": [
  {
   "cell_type": "code",
   "execution_count": 1,
   "metadata": {},
   "outputs": [],
   "source": [
    "import sys\n",
    "sys.path.append('../')\n",
    "import daq\n",
    "import file\n",
    "import globalVAR as Gvar\n",
    "import visa\n",
    "import numpy as np\n",
    "import time\n",
    "from random import randint\n",
    "import PyCapture2 as pc2\n",
    "\n",
    "%load_ext autoreload\n",
    "%autoreload 1"
   ]
  },
  {
   "cell_type": "code",
   "execution_count": 33,
   "metadata": {
    "scrolled": true
   },
   "outputs": [
    {
     "name": "stdout",
     "output_type": "stream",
     "text": [
      "Power supply ID: KORADKA3005PV2.0\n",
      "Device ttyUSB0 successfully connected and process started.\n",
      "Oscilloscope ID: TEKTRONIX,TDS 2024C,C046401,CF:91.1CT FV:v24.26\n",
      "\n",
      "Device C046401 successfully connected and process started.\n"
     ]
    },
    {
     "name": "stderr",
     "output_type": "stream",
     "text": [
      "/home/cu-pwfa/anaconda3/envs/CU-PWFA/lib/python3.6/site-packages/pyvisa/resources/messagebased.py:564: UserWarning: read string doesn't end with termination characters\n",
      "  return self.read()\n"
     ]
    },
    {
     "name": "stdout",
     "output_type": "stream",
     "text": [
      "Scope Error: Empty preamble\n"
     ]
    },
    {
     "name": "stderr",
     "output_type": "stream",
     "text": [
      "Process Process-54:\n",
      "Traceback (most recent call last):\n",
      "  File \"/home/cu-pwfa/anaconda3/envs/CU-PWFA/lib/python3.6/multiprocessing/process.py\", line 249, in _bootstrap\n",
      "    self.run()\n",
      "  File \"/home/cu-pwfa/anaconda3/envs/CU-PWFA/lib/python3.6/multiprocessing/process.py\", line 93, in run\n",
      "    self._target(*self._args, **self._kwargs)\n",
      "  File \"../daq.py\", line 221, in start_process\n",
      "    proc_class(name, adr, c_queue, r_queue, o_queue)\n",
      "  File \"../processes/process.py\", line 40, in __init__\n",
      "    self.command_loop()\n",
      "  File \"../processes/process.py\", line 68, in command_loop\n",
      "    func(*com['args'])\n",
      "  File \"../processes/TDS2024C.py\", line 23, in save_waveform\n",
      "    t, y, pre = self.device.retrieve_current_waveform()\n",
      "  File \"../devices/TDS2024C.py\", line 379, in retrieve_current_waveform\n",
      "    if self.verify_format(pre) != True:\n",
      "  File \"../devices/TDS2024C.py\", line 304, in verify_format\n",
      "    elif pre[\"Byte number\"] != 1:\n",
      "KeyError: 'Byte number'\n",
      "Process Process-51:\n",
      "Traceback (most recent call last):\n",
      "  File \"/home/cu-pwfa/anaconda3/envs/CU-PWFA/lib/python3.6/multiprocessing/process.py\", line 249, in _bootstrap\n",
      "    self.run()\n",
      "  File \"/home/cu-pwfa/anaconda3/envs/CU-PWFA/lib/python3.6/multiprocessing/process.py\", line 93, in run\n",
      "    self._target(*self._args, **self._kwargs)\n",
      "  File \"../daq.py\", line 221, in start_process\n",
      "    proc_class(name, adr, c_queue, r_queue, o_queue)\n",
      "  File \"../processes/KA3005P.py\", line 16, in __init__\n",
      "    super().__init__(name, adr, c_queue, r_queue, o_queue)\n",
      "  File \"../processes/process.py\", line 40, in __init__\n",
      "    self.command_loop()\n",
      "  File \"../processes/process.py\", line 64, in command_loop\n",
      "    com = self.c_queue.get()\n",
      "  File \"/home/cu-pwfa/anaconda3/envs/CU-PWFA/lib/python3.6/multiprocessing/queues.py\", line 94, in get\n",
      "    res = self._recv_bytes()\n",
      "  File \"/home/cu-pwfa/anaconda3/envs/CU-PWFA/lib/python3.6/multiprocessing/connection.py\", line 216, in recv_bytes\n",
      "    buf = self._recv_bytes(maxlength)\n",
      "  File \"/home/cu-pwfa/anaconda3/envs/CU-PWFA/lib/python3.6/multiprocessing/connection.py\", line 407, in _recv_bytes\n",
      "    buf = self._recv(4)\n",
      "  File \"/home/cu-pwfa/anaconda3/envs/CU-PWFA/lib/python3.6/multiprocessing/connection.py\", line 379, in _recv\n",
      "    chunk = read(handle, remaining)\n",
      "KeyboardInterrupt\n"
     ]
    }
   ],
   "source": [
    "DAQ = daq.Daq(desc='Testing Daq handling of meta data.')\n",
    "DAQ.connect_instr('KA3005P', 'ttyUSB0')\n",
    "DAQ.connect_instr('TDS2024C', 1)"
   ]
  },
  {
   "cell_type": "code",
   "execution_count": 34,
   "metadata": {},
   "outputs": [],
   "source": [
    "DAQ.send_command(DAQ.command_queue['ttyUSB0'], 'turn_on')\n",
    "DAQ.send_command(DAQ.command_queue['C046401'], 'acquire_off')\n",
    "DAQ.send_command(DAQ.command_queue['C046401'], 'set_acquisition_stop', (\"SEQuence\",))\n",
    "DAQ.send_command(DAQ.command_queue['C046401'], 'set_acquisition_mode', (\"AVErage\",))\n",
    "DAQ.send_command(DAQ.command_queue['C046401'], 'set_average_num', (4,))"
   ]
  },
  {
   "cell_type": "code",
   "execution_count": 35,
   "metadata": {},
   "outputs": [
    {
     "ename": "KeyboardInterrupt",
     "evalue": "",
     "output_type": "error",
     "traceback": [
      "\u001b[0;31m---------------------------------------------------------------------------\u001b[0m",
      "\u001b[0;31mKeyboardInterrupt\u001b[0m                         Traceback (most recent call last)",
      "\u001b[0;32m<ipython-input-35-2638039c6c12>\u001b[0m in \u001b[0;36m<module>\u001b[0;34m()\u001b[0m\n\u001b[1;32m     11\u001b[0m     \u001b[0mCqu\u001b[0m \u001b[0;34m=\u001b[0m \u001b[0mDAQ\u001b[0m\u001b[0;34m.\u001b[0m\u001b[0mcommand_queue\u001b[0m\u001b[0;34m[\u001b[0m\u001b[0;34m'C046401'\u001b[0m\u001b[0;34m]\u001b[0m\u001b[0;34m.\u001b[0m\u001b[0mqsize\u001b[0m\u001b[0;34m(\u001b[0m\u001b[0;34m)\u001b[0m\u001b[0;34m\u001b[0m\u001b[0m\n\u001b[1;32m     12\u001b[0m     \u001b[0;32mwhile\u001b[0m \u001b[0mCqu\u001b[0m \u001b[0;34m!=\u001b[0m \u001b[0;36m0\u001b[0m\u001b[0;34m:\u001b[0m\u001b[0;34m\u001b[0m\u001b[0m\n\u001b[0;32m---> 13\u001b[0;31m         \u001b[0mCqu\u001b[0m \u001b[0;34m=\u001b[0m \u001b[0mDAQ\u001b[0m\u001b[0;34m.\u001b[0m\u001b[0mcommand_queue\u001b[0m\u001b[0;34m[\u001b[0m\u001b[0;34m'C046401'\u001b[0m\u001b[0;34m]\u001b[0m\u001b[0;34m.\u001b[0m\u001b[0mqsize\u001b[0m\u001b[0;34m(\u001b[0m\u001b[0;34m)\u001b[0m\u001b[0;34m\u001b[0m\u001b[0m\n\u001b[0m\u001b[1;32m     14\u001b[0m     \u001b[0;31m#time.sleep(3)\u001b[0m\u001b[0;34m\u001b[0m\u001b[0;34m\u001b[0m\u001b[0m\n\u001b[1;32m     15\u001b[0m \u001b[0;34m\u001b[0m\u001b[0m\n",
      "\u001b[0;31mKeyboardInterrupt\u001b[0m: "
     ]
    }
   ],
   "source": [
    "v = np.linspace(2.0, 30, 57)\n",
    "chan = {'CH1' : [False, 'Floating Potential in Lab'],\n",
    "        'CH2' : [False, 'Power Supply Setting']}\n",
    "\n",
    "#for i in range(len(v)):\n",
    "for j in [1,2]:\n",
    "    ch = 'CH{}'.format(j)\n",
    "    chan[ch][0] = True\n",
    "\n",
    "    DAQ.send_command(DAQ.command_queue['C046401'], 'set_data_source', (ch,))\n",
    "    time.sleep(3)\n",
    "    \n",
    "    DAQ.send_command(DAQ.command_queue['ttyUSB0'], 'set_record_voltage', (30,))\n",
    "    time.sleep(0.1)\n",
    "    \n",
    "    DAQ.send_command(DAQ.command_queue['C046401'], 'acquire_on')\n",
    "    time.sleep(1)\n",
    "    \n",
    "    DAQ.send_command(DAQ.command_queue['C046401'], 'save_waveform', (chan,))\n",
    "    time.sleep(3)\n",
    "    \n",
    "    chan[ch][0] = False\n",
    "        "
   ]
  },
  {
   "cell_type": "code",
   "execution_count": 5,
   "metadata": {},
   "outputs": [],
   "source": [
    "DAQ.end_dataset()"
   ]
  },
  {
   "cell_type": "code",
   "execution_count": 36,
   "metadata": {},
   "outputs": [],
   "source": [
    "for key in DAQ.instr:\n",
    "    for elem in DAQ.instr[key]:\n",
    "        DAQ.disconnect_instr(key, elem)"
   ]
  }
 ],
 "metadata": {
  "kernelspec": {
   "display_name": "CU-PWFA",
   "language": "python",
   "name": "cu-pwfa"
  },
  "language_info": {
   "codemirror_mode": {
    "name": "ipython",
    "version": 3
   },
   "file_extension": ".py",
   "mimetype": "text/x-python",
   "name": "python",
   "nbconvert_exporter": "python",
   "pygments_lexer": "ipython3",
   "version": "3.6.2"
  }
 },
 "nbformat": 4,
 "nbformat_minor": 2
}

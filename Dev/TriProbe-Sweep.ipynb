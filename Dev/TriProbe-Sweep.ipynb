{
 "cells": [
  {
   "cell_type": "code",
   "execution_count": 1,
   "metadata": {},
   "outputs": [],
   "source": [
    "import sys\n",
    "sys.path.append('../')\n",
    "import daq\n",
    "import file\n",
    "import globalVAR as Gvar\n",
    "import visa\n",
    "import numpy as np\n",
    "import time\n",
    "from random import randint\n",
    "import PyCapture2 as pc2\n",
    "\n",
    "%load_ext autoreload\n",
    "%autoreload 1"
   ]
  },
  {
   "cell_type": "code",
   "execution_count": 2,
   "metadata": {
    "scrolled": true
   },
   "outputs": [
    {
     "name": "stdout",
     "output_type": "stream",
     "text": [
      "Power supply ID: KORADKA3005PV2.0\n",
      "Device ttyUSB0 successfully connected and process started.\n",
      "Oscilloscope ID: TEKTRONIX,TDS 2024C,C046401,CF:91.1CT FV:v24.26\n",
      "\n",
      "Device C046401 successfully connected and process started.\n"
     ]
    }
   ],
   "source": [
    "DAQ = daq.Daq(desc='Triple probe test in air plasma.')\n",
    "DAQ.connect_instr('TDS2024C', 1)\n",
    "DAQ.connect_instr('KA3005P', 'ttyUSB0')"
   ]
  },
  {
   "cell_type": "code",
   "execution_count": 3,
   "metadata": {
    "collapsed": true
   },
   "outputs": [],
   "source": [
    "DAQ.send_command(DAQ.command_queue['ttyUSB0'], 'turn_on')\n",
    "DAQ.send_command(DAQ.command_queue['C046401'], 'acquire_off')\n",
    "DAQ.send_command(DAQ.command_queue['C046401'], 'set_acquisition_stop', (\"SEQuence\",))\n",
    "DAQ.send_command(DAQ.command_queue['C046401'], 'set_acquisition_mode', (\"AVErage\",))\n",
    "DAQ.send_command(DAQ.command_queue['C046401'], 'set_average_num', (128,))"
   ]
  },
  {
   "cell_type": "code",
   "execution_count": 4,
   "metadata": {},
   "outputs": [],
   "source": [
    "v = np.linspace(2.0, 30, 57)\n",
    "\n",
    "for i in range(len(v)):\n",
    "    for j in [1,2]:\n",
    "        DAQ.send_command(DAQ.command_queue['C046401'], 'set_data_source', ('CH{}'.format(j),))\n",
    "        time.sleep(3)\n",
    "        DAQ.send_command(DAQ.command_queue['ttyUSB0'], 'set_record_voltage', (v[i],))\n",
    "        time.sleep(0.1)\n",
    "        DAQ.send_command(DAQ.command_queue['C046401'], 'acquire_on')\n",
    "        time.sleep(15)\n",
    "        DAQ.send_command(DAQ.command_queue['C046401'], 'save_waveform')\n",
    "        time.sleep(3)\n",
    "        #DAQ.send_command(DAQ.command_queue['C046401'], 'set_data_source', ('CH<2>',))\n",
    "        #time.sleep(1)\n",
    "        #DAQ.send_command(DAQ.command_queue['C046401'], 'save_waveform')\n",
    "        #time.sleep(3)"
   ]
  },
  {
   "cell_type": "code",
   "execution_count": 59,
   "metadata": {
    "collapsed": true
   },
   "outputs": [],
   "source": [
    "DAQ.send_command(DAQ.command_queue['ttyUSB0'], 'set_voltage', (30,))"
   ]
  },
  {
   "cell_type": "code",
   "execution_count": 5,
   "metadata": {
    "collapsed": true
   },
   "outputs": [],
   "source": [
    "DAQ.send_command(DAQ.command_queue['ttyUSB0'], 'turn_off')"
   ]
  },
  {
   "cell_type": "code",
   "execution_count": 6,
   "metadata": {
    "collapsed": true
   },
   "outputs": [],
   "source": [
    "DAQ.end_dataset()"
   ]
  },
  {
   "cell_type": "code",
   "execution_count": 9,
   "metadata": {
    "collapsed": true
   },
   "outputs": [],
   "source": [
    "for key in DAQ.instr:\n",
    "    for elem in DAQ.instr[key]:\n",
    "        DAQ.disconnect_instr(key, elem)"
   ]
  }
 ],
 "metadata": {
  "kernelspec": {
   "display_name": "CU-PWFA",
   "language": "python",
   "name": "cu-pwfa"
  },
  "language_info": {
   "codemirror_mode": {
    "name": "ipython",
    "version": 3
   },
   "file_extension": ".py",
   "mimetype": "text/x-python",
   "name": "python",
   "nbconvert_exporter": "python",
   "pygments_lexer": "ipython3",
   "version": "3.6.2"
  }
 },
 "nbformat": 4,
 "nbformat_minor": 2
}

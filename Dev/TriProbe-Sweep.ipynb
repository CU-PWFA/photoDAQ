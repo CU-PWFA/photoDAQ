{
 "cells": [
  {
   "cell_type": "code",
   "execution_count": null,
   "metadata": {},
   "outputs": [],
   "source": [
    "import sys\n",
    "sys.path.append('../')\n",
    "import daq\n",
    "import file\n",
    "import globalVAR as Gvar\n",
    "import visa\n",
    "import numpy as np\n",
    "import time\n",
    "from random import randint\n",
    "import PyCapture2 as pc2\n",
    "\n",
    "%load_ext autoreload\n",
    "%autoreload 1"
   ]
  },
  {
   "cell_type": "code",
   "execution_count": null,
   "metadata": {},
   "outputs": [],
   "source": [
    "DAQ = daq.Daq(desc='Test Descritpion')\n",
    "DAQ.connect_instr('TDS2024C', 1)\n",
    "DAQ.connect_instr('KA3005P', 'ttyUSB0')"
   ]
  },
  {
   "cell_type": "code",
   "execution_count": null,
   "metadata": {},
   "outputs": [],
   "source": [
    "DAQ.send_command(DAQ.command_queue['ttyUSB0'], 'turn_on')\n",
    "DAQ.send_command(DAQ.command_queue['C046401'], 'acquire_off')\n",
    "DAQ.send_command(DAQ.command_queue['C046401'], 'set_acquisition_stop', (\"SEQuence\",))\n",
    "DAQ.send_command(DAQ.command_queue['C046401'], 'set_acquisition_mode', (\"AVErage\",))\n",
    "DAQ.send_command(DAQ.command_queue['C046401'], 'set_average_num', (128,))"
   ]
  },
  {
   "cell_type": "code",
   "execution_count": null,
   "metadata": {},
   "outputs": [],
   "source": [
    "v = np.linspace(5.0, 20, 16)\n",
    "\n",
    "for i in range(len(v)):\n",
    "    DAQ.send_command(DAQ.command_queue['ttyUSB0'], 'set_record_voltage', (v[i],))\n",
    "    time.sleep(0.1)\n",
    "    DAQ.send_command(DAQ.command_queue['C046401'], 'acquire_on')\n",
    "    time.sleep(13)\n",
    "    DAQ.send_command(DAQ.command_queue['C046401'], 'save_waveform')\n",
    "    time.sleep(1)"
   ]
  },
  {
   "cell_type": "code",
   "execution_count": null,
   "metadata": {},
   "outputs": [],
   "source": [
    "DAQ.send_command(DAQ.command_queue['ttyUSB0'], 'turn_off')"
   ]
  },
  {
   "cell_type": "code",
   "execution_count": null,
   "metadata": {},
   "outputs": [],
   "source": [
    "DAQ.end_dataset()"
   ]
  },
  {
   "cell_type": "code",
   "execution_count": null,
   "metadata": {},
   "outputs": [],
   "source": [
    "for key in DAQ.instr:\n",
    "    for elem in DAQ.instr[key]:\n",
    "        DAQ.disconnect_instr(key, elem)"
   ]
  }
 ],
 "metadata": {
  "kernelspec": {
   "display_name": "CU-PWFA",
   "language": "python",
   "name": "cu-pwfa"
  },
  "language_info": {
   "codemirror_mode": {
    "name": "ipython",
    "version": 3
   },
   "file_extension": ".py",
   "mimetype": "text/x-python",
   "name": "python",
   "nbconvert_exporter": "python",
   "pygments_lexer": "ipython3",
   "version": "3.6.2"
  }
 },
 "nbformat": 4,
 "nbformat_minor": 2
}

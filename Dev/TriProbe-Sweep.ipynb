{
 "cells": [
  {
   "cell_type": "code",
   "execution_count": 2,
   "metadata": {},
   "outputs": [
    {
     "name": "stdout",
     "output_type": "stream",
     "text": [
      "The autoreload extension is already loaded. To reload it, use:\n",
      "  %reload_ext autoreload\n"
     ]
    }
   ],
   "source": [
    "import sys\n",
    "sys.path.append('../')\n",
    "import daq\n",
    "import file\n",
    "import globalVAR as Gvar\n",
    "import visa\n",
    "import numpy as np\n",
    "import time\n",
    "from random import randint\n",
    "import PyCapture2 as pc2\n",
    "\n",
    "%load_ext autoreload\n",
    "%autoreload 1"
   ]
  },
  {
   "cell_type": "code",
   "execution_count": 3,
   "metadata": {
    "scrolled": true
   },
   "outputs": [
    {
     "name": "stdout",
     "output_type": "stream",
     "text": [
      "Power supply ID: KORADKA3005PV2.0\n",
      "Device ttyUSB0 successfully connected and process started.\n",
      "Oscilloscope ID: TEKTRONIX,TDS 2024C,C046401,CF:91.1CT FV:v24.26\n",
      "\n",
      "Device C046401 successfully connected and process started.\n"
     ]
    }
   ],
   "source": [
    "DAQ = daq.Daq(desc='Testing Daq handling of meta data.')\n",
    "DAQ.connect_instr('KA3005P', 'serial/by-id/usb-Nuvoton_USB_Virtual_COM_A02014090305-if00')\n",
    "DAQ.connect_instr('TDS2024C', 1)"
   ]
  },
  {
   "cell_type": "code",
   "execution_count": null,
   "metadata": {},
   "outputs": [],
   "source": [
    "DAQ.save_meta()"
   ]
  },
  {
   "cell_type": "code",
   "execution_count": 4,
   "metadata": {},
   "outputs": [],
   "source": [
    "DAQ.send_command(DAQ.command_queue['serial/by-id/usb-Nuvoton_USB_Virtual_COM_A02014090305-if00'], 'turn_on')\n",
    "DAQ.send_command(DAQ.command_queue['C046401'], 'acquire_off')\n",
    "DAQ.send_command(DAQ.command_queue['C046401'], 'set_acquisition_stop', (\"SEQuence\",))\n",
    "DAQ.send_command(DAQ.command_queue['C046401'], 'set_acquisition_mode', (\"AVErage\",))\n",
    "DAQ.send_command(DAQ.command_queue['C046401'], 'set_average_num', (128,))"
   ]
  },
  {
   "cell_type": "code",
   "execution_count": 5,
   "metadata": {},
   "outputs": [],
   "source": [
    "v = np.linspace(0.25, 10, 39)\n",
    "chan = {'CH1' : [False, 'Floating Potential in Lab'],\n",
    "        'CH2' : [False, 'Power Supply Setting']}\n",
    "\n",
    "for i in range(len(v)):\n",
    "    for j in range(len(chan)):\n",
    "        ch = 'CH{}'.format(j+1)\n",
    "        chan[ch][0] = True\n",
    "\n",
    "        DAQ.send_command(DAQ.command_queue['C046401'], 'set_data_source', (ch,))\n",
    "\n",
    "        DAQ.send_command(DAQ.command_queue['serial/by-id/usb-Nuvoton_USB_Virtual_COM_A02014090305-if00'],\n",
    "                         'set_record_voltage', (v[i],))\n",
    "        DAQ.waitQ(DAQ.command_queue['C046401'])\n",
    "        DAQ.waitQ(DAQ.command_queue['serial/by-id/usb-Nuvoton_USB_Virtual_COM_A02014090305-if00'])\n",
    "\n",
    "        DAQ.send_command(DAQ.command_queue['C046401'], 'acquire_on')\n",
    "        DAQ.waitQ(DAQ.command_queue['C046401'])\n",
    "\n",
    "        DAQ.send_command(DAQ.command_queue['C046401'], 'save_waveform', (chan,))    \n",
    "        DAQ.waitQ(DAQ.command_queue['C046401'])\n",
    "        DAQ.waitQ(DAQ.response_queue['C046401'])\n",
    "\n",
    "        chan[ch][0] = False\n",
    "        "
   ]
  },
  {
   "cell_type": "code",
   "execution_count": 7,
   "metadata": {},
   "outputs": [],
   "source": [
    "DAQ.turn_off_daq()"
   ]
  }
 ],
 "metadata": {
  "kernelspec": {
   "display_name": "CU-PWFA",
   "language": "python",
   "name": "cu-pwfa"
  },
  "language_info": {
   "codemirror_mode": {
    "name": "ipython",
    "version": 3
   },
   "file_extension": ".py",
   "mimetype": "text/x-python",
   "name": "python",
   "nbconvert_exporter": "python",
   "pygments_lexer": "ipython3",
   "version": "3.6.2"
  }
 },
 "nbformat": 4,
 "nbformat_minor": 2
}

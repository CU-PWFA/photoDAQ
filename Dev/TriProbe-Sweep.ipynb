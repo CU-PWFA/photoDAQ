{
 "cells": [
  {
   "cell_type": "code",
   "execution_count": 17,
   "metadata": {},
   "outputs": [
    {
     "name": "stdout",
     "output_type": "stream",
     "text": [
      "The autoreload extension is already loaded. To reload it, use:\n",
      "  %reload_ext autoreload\n"
     ]
    }
   ],
   "source": [
    "import sys\n",
    "sys.path.append('../')\n",
    "import daq\n",
    "import file\n",
    "import globalVAR as Gvar\n",
    "import visa\n",
    "import numpy as np\n",
    "import time\n",
    "from random import randint\n",
    "import PyCapture2 as pc2\n",
    "import detect\n",
    "\n",
    "%load_ext autoreload\n",
    "%autoreload 1"
   ]
  },
  {
   "cell_type": "code",
   "execution_count": 18,
   "metadata": {
    "scrolled": true
   },
   "outputs": [],
   "source": [
    "DAQ = daq.Daq(print_normal=True)"
   ]
  },
  {
   "cell_type": "code",
   "execution_count": 19,
   "metadata": {},
   "outputs": [],
   "source": [
    "instr_oscope = detect.pyvisa()\n",
    "instr_PS = detect.serial_ports()"
   ]
  },
  {
   "cell_type": "code",
   "execution_count": 39,
   "metadata": {},
   "outputs": [
    {
     "name": "stdout",
     "output_type": "stream",
     "text": [
      "{'C046401': <instrInfo.TDS2024C object at 0x7fa3841c3e80>}\n",
      "{'/dev/ttyUSB0': <instrInfo.FS304 object at 0x7fa3841e14e0>, 'NT2009101400': <instrInfo.KA3005P object at 0x7fa3841e1cc0>, '5573631333835150F150': <instrInfo.TC object at 0x7fa3841e14a8>, '55736313338351603181': <instrInfo.FRG700 object at 0x7fa3841e1da0>}\n"
     ]
    }
   ],
   "source": [
    "print(instr_oscope)\n",
    "print(instr_PS)"
   ]
  },
  {
   "cell_type": "code",
   "execution_count": 20,
   "metadata": {},
   "outputs": [
    {
     "name": "stdout",
     "output_type": "stream",
     "text": [
      "Power supply ID: KORADKA3005PV2.0\n",
      "Instrument NT2009101400 connected and process started.\n",
      "Oscilloscope ID: TEKTRONIX,TDS 2024C,C046401,CF:91.1CT FV:v24.26\n",
      "\n",
      "Instrument C046401 connected and process started.\n",
      "Instrument NT2009101400 disconnected.\n",
      "Instrument C046401 disconnected.\n"
     ]
    }
   ],
   "source": [
    "DAQ.connect_instr(instr_oscope['C046401'])\n",
    "DAQ.connect_instr(instr_PS['NT2009101400'])"
   ]
  },
  {
   "cell_type": "code",
   "execution_count": 21,
   "metadata": {},
   "outputs": [],
   "source": [
    "DAQ.send_command(instr_PS['NT2009101400'], 'turn_on')\n",
    "DAQ.send_command(instr_oscope['C046401'], 'acquire_off')\n",
    "DAQ.send_command(instr_oscope['C046401'], 'set_acquisition_stop', \"SEQuence\")\n",
    "DAQ.send_command(instr_oscope['C046401'], 'set_acquisition_mode', \"AVErage\")"
   ]
  },
  {
   "cell_type": "code",
   "execution_count": 26,
   "metadata": {
    "scrolled": true
   },
   "outputs": [
    {
     "name": "stdout",
     "output_type": "stream",
     "text": [
      "[0]\n"
     ]
    }
   ],
   "source": [
    "Volts = [0]#np.linspace(0.1, 20, 200)\n",
    "print(Volts)"
   ]
  },
  {
   "cell_type": "code",
   "execution_count": 27,
   "metadata": {},
   "outputs": [
    {
     "name": "stdout",
     "output_type": "stream",
     "text": [
      "0\n",
      "   CH2\n",
      "   MATH\n"
     ]
    }
   ],
   "source": [
    "chan = {'CH2' : [False, 'Voltage Drop'],\n",
    "        'MATH' : [False, 'Biasing Voltage']}\n",
    "\n",
    "for V in Volts:\n",
    "    DAQ.send_command(instr_PS['NT2009101400'], 'set_voltage', V)\n",
    "    print(V)\n",
    "    for ch in chan:\n",
    "        print('   '+ch)\n",
    "        chan[ch][0] = True\n",
    "        \n",
    "        DAQ.send_command(instr_oscope['C046401'], 'set_data_source', ch)\n",
    "        \n",
    "        if ch=='MATH':\n",
    "            DAQ.send_command(instr_oscope['C046401'], 'set_average_num', 4)\n",
    "            delay = 2\n",
    "        elif ch=='CH2':\n",
    "            DAQ.send_command(instr_oscope['C046401'], 'set_average_num', 32)\n",
    "            delay = 5\n",
    "        \n",
    "        time.sleep(.25)\n",
    "        DAQ.send_command(instr_oscope['C046401'], 'acquire_on')\n",
    "        \n",
    "        time.sleep(delay)\n",
    "        DAQ.send_command(instr_oscope['C046401'], 'save_waveform') \n",
    "        \n",
    "        time.sleep(2)\n",
    "\n",
    "        chan[ch][0] = False\n",
    "        "
   ]
  },
  {
   "cell_type": "code",
   "execution_count": 28,
   "metadata": {
    "scrolled": false
   },
   "outputs": [
    {
     "name": "stdout",
     "output_type": "stream",
     "text": [
      "Checking that all threads exited.\n",
      "Thread name: MainThread Alive: True\n",
      "Checking that all threads exited.\n",
      "Thread name: Thread-2 Alive: True\n",
      "Checking that all threads exited.\n",
      "Thread name: Thread-3 Alive: True\n",
      "Checking that all threads exited.\n",
      "Thread name: IPythonHistorySavingThread Alive: True\n",
      "Checking that all threads exited.\n",
      "Thread name: Thread-1 Alive: True\n",
      "Checking that all threads exited.\n",
      "Thread name: QueueFeederThread Alive: True\n",
      "Checking that all threads exited.\n",
      "Thread name: QueueFeederThread Alive: True\n",
      "Checking that all threads exited.\n",
      "Thread name: QueueFeederThread Alive: True\n",
      "Checking that all threads exited.\n",
      "Thread name: QueueFeederThread Alive: True\n"
     ]
    }
   ],
   "source": [
    "DAQ.close_daq()"
   ]
  }
 ],
 "metadata": {
  "kernelspec": {
   "display_name": "CU-PWFA",
   "language": "python",
   "name": "cu-pwfa"
  },
  "language_info": {
   "codemirror_mode": {
    "name": "ipython",
    "version": 3
   },
   "file_extension": ".py",
   "mimetype": "text/x-python",
   "name": "python",
   "nbconvert_exporter": "python",
   "pygments_lexer": "ipython3",
   "version": "3.6.2"
  }
 },
 "nbformat": 4,
 "nbformat_minor": 2
}

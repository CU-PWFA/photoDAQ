{
 "cells": [
  {
   "cell_type": "code",
   "execution_count": 2,
   "metadata": {},
   "outputs": [
    {
     "name": "stdout",
     "output_type": "stream",
     "text": [
      "The autoreload extension is already loaded. To reload it, use:\n",
      "  %reload_ext autoreload\n"
     ]
    }
   ],
   "source": [
    "import sys\n",
    "sys.path.append('../')\n",
    "import daq\n",
    "import file\n",
    "import globalVAR as Gvar\n",
    "import visa\n",
    "import numpy as np\n",
    "import time\n",
    "from random import randint\n",
    "import PyCapture2 as pc2\n",
    "\n",
    "%load_ext autoreload\n",
    "%autoreload 1"
   ]
  },
  {
   "cell_type": "code",
   "execution_count": 3,
   "metadata": {
    "scrolled": true
   },
   "outputs": [
    {
     "name": "stdout",
     "output_type": "stream",
     "text": [
      "Power supply ID: KORADKA3005PV2.0\n",
      "Device ttyUSB0 successfully connected and process started.\n",
      "Oscilloscope ID: TEKTRONIX,TDS 2024C,C046401,CF:91.1CT FV:v24.26\n",
      "\n",
      "Device C046401 successfully connected and process started.\n"
     ]
    }
   ],
   "source": [
    "DAQ = daq.Daq(desc='Testing Daq handling of meta data.')\n",
    "DAQ.connect_instr('KA3005P', 'ttyUSB0')\n",
    "DAQ.connect_instr('TDS2024C', 1)"
   ]
  },
  {
   "cell_type": "code",
   "execution_count": 4,
   "metadata": {},
   "outputs": [],
   "source": [
    "DAQ.send_command(DAQ.command_queue['ttyUSB0'], 'turn_on')\n",
    "DAQ.send_command(DAQ.command_queue['C046401'], 'acquire_off')\n",
    "DAQ.send_command(DAQ.command_queue['C046401'], 'set_acquisition_stop', (\"SEQuence\",))\n",
    "DAQ.send_command(DAQ.command_queue['C046401'], 'set_acquisition_mode', (\"AVErage\",))\n",
    "DAQ.send_command(DAQ.command_queue['C046401'], 'set_average_num', (128,))"
   ]
  },
  {
   "cell_type": "code",
   "execution_count": 5,
   "metadata": {},
   "outputs": [],
   "source": [
    "v = np.linspace(2.0, 30, 57)\n",
    "chan = {'CH1' : [False, 'Floating Potential in Lab'],\n",
    "        'CH2' : [False, 'Power Supply Setting']}\n",
    "\n",
    "#for i in range(len(v)):\n",
    "for j in [1,2]:\n",
    "    ch = 'CH{}'.format(j)\n",
    "    chan[ch][0] = True\n",
    "    \n",
    "    DAQ.send_command(DAQ.command_queue['C046401'], 'set_data_source', (ch,))\n",
    "\n",
    "    DAQ.send_command(DAQ.command_queue['ttyUSB0'], 'set_record_voltage', (30,))\n",
    "    \n",
    "    C_size_os = DAQ.command_queue['C046401'].qsize()\n",
    "    C_size_ps = DAQ.command_queue['ttyUSB0'].qsize()\n",
    "    while (C_size_ps != 0) or (C_size_os != 0):\n",
    "        C_size_os = DAQ.command_queue['C046401'].qsize()\n",
    "        C_size_ps = DAQ.command_queue['ttyUSB0'].qsize()\n",
    "\n",
    "    DAQ.send_command(DAQ.command_queue['C046401'], 'acquire_on')\n",
    "    \n",
    "    DAQ.send_command(DAQ.command_queue['C046401'], 'wait')\n",
    "    C_size_os = DAQ.command_queue['C046401'].qsize()\n",
    "    while C_size_os != 0:\n",
    "        C_size_os = DAQ.command_queue['C046401'].qsize()\n",
    "    \n",
    "    DAQ.send_command(DAQ.command_queue['C046401'], 'save_waveform', (chan,))    \n",
    "    \n",
    "    chan[ch][0] = False\n",
    "        "
   ]
  },
  {
   "cell_type": "code",
   "execution_count": 6,
   "metadata": {},
   "outputs": [],
   "source": [
    "DAQ.end_dataset()"
   ]
  },
  {
   "cell_type": "code",
   "execution_count": 7,
   "metadata": {},
   "outputs": [],
   "source": [
    "for key in DAQ.instr:\n",
    "    for elem in DAQ.instr[key]:\n",
    "        DAQ.disconnect_instr(key, elem)"
   ]
  }
 ],
 "metadata": {
  "kernelspec": {
   "display_name": "CU-PWFA",
   "language": "python",
   "name": "cu-pwfa"
  },
  "language_info": {
   "codemirror_mode": {
    "name": "ipython",
    "version": 3
   },
   "file_extension": ".py",
   "mimetype": "text/x-python",
   "name": "python",
   "nbconvert_exporter": "python",
   "pygments_lexer": "ipython3",
   "version": "3.6.2"
  }
 },
 "nbformat": 4,
 "nbformat_minor": 2
}

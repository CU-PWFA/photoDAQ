{
 "cells": [
  {
   "cell_type": "code",
   "execution_count": 1,
   "metadata": {
    "collapsed": true
   },
   "outputs": [],
   "source": [
    "import visa\n",
    "import sys\n",
    "sys.path.append('../')\n",
    "\n",
    "import devices.TDS2024C\n",
    "%load_ext autoreload\n",
    "%autoreload 1"
   ]
  },
  {
   "cell_type": "code",
   "execution_count": 2,
   "metadata": {},
   "outputs": [
    {
     "name": "stdout",
     "output_type": "stream",
     "text": [
      "('ASRL/dev/ttyS0::INSTR', 'USB0::1689::934::C046401::0::INSTR')\n"
     ]
    }
   ],
   "source": [
    "rm = visa.ResourceManager('@py')\n",
    "print(rm.list_resources())"
   ]
  },
  {
   "cell_type": "code",
   "execution_count": 3,
   "metadata": {},
   "outputs": [],
   "source": [
    "OS = rm.open_resource('USB0::1689::934::C046401::0::INSTR')\n",
    "#print(OS.query(\"*IDN?\"))"
   ]
  },
  {
   "cell_type": "code",
   "execution_count": 4,
   "metadata": {},
   "outputs": [
    {
     "name": "stdout",
     "output_type": "stream",
     "text": [
      "TEKTRONIX,TDS 2024C,C046401,CF:91.1CT FV:v24.26\n",
      "\n"
     ]
    }
   ],
   "source": [
    "print(OS.query(\"*IDN?\"))"
   ]
  },
  {
   "cell_type": "code",
   "execution_count": null,
   "metadata": {},
   "outputs": [],
   "source": [
    "%timeit values = OS.query_binary_values('CURVe?', datatype='b', is_big_endian=True)"
   ]
  },
  {
   "cell_type": "code",
   "execution_count": 2,
   "metadata": {},
   "outputs": [
    {
     "name": "stdout",
     "output_type": "stream",
     "text": [
      "Oscilloscope ID: TEKTRONIX,TDS 2024C,C046401,CF:91.1CT FV:v24.26\n",
      "\n"
     ]
    }
   ],
   "source": [
    "%aimport devices.TDS2024C\n",
    "OS = devices.TDS2024C.TDS2024C()"
   ]
  },
  {
   "cell_type": "code",
   "execution_count": null,
   "metadata": {},
   "outputs": [],
   "source": [
    "%aimport devices.TDS2024C\n",
    "t, y = OS.retrieve_current_waveform()"
   ]
  },
  {
   "cell_type": "code",
   "execution_count": 3,
   "metadata": {},
   "outputs": [
    {
     "data": {
      "text/plain": [
       "(array([ -5.00000000e-05,  -4.99600000e-05,  -4.99200000e-05, ...,\n",
       "          4.98800000e-05,   4.99200000e-05,   4.99600000e-05]),\n",
       " array([-0.0006, -0.001 , -0.0002, ..., -0.0002, -0.0006, -0.0004]))"
      ]
     },
     "execution_count": 3,
     "metadata": {},
     "output_type": "execute_result"
    }
   ],
   "source": [
    "%aimport devices.TDS2024C\n",
    "OS.acquire_average_waveform(4)"
   ]
  }
 ],
 "metadata": {
  "kernelspec": {
   "display_name": "CU-PWFA",
   "language": "python",
   "name": "cu-pwfa"
  },
  "language_info": {
   "codemirror_mode": {
    "name": "ipython",
    "version": 3
   },
   "file_extension": ".py",
   "mimetype": "text/x-python",
   "name": "python",
   "nbconvert_exporter": "python",
   "pygments_lexer": "ipython3",
   "version": "3.6.2"
  }
 },
 "nbformat": 4,
 "nbformat_minor": 2
}

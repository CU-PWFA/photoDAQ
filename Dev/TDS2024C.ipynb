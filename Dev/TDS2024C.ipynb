{
 "cells": [
  {
   "cell_type": "code",
   "execution_count": 1,
   "metadata": {},
   "outputs": [],
   "source": [
    "# For debugging the usb connection\n",
    "#%env LIBUSB_DEBUG=4\n",
    "#%env\n",
    "\n",
    "import visa\n",
    "import sys\n",
    "sys.path.append('../')\n",
    "\n",
    "import devices.TDS2024C\n",
    "%load_ext autoreload\n",
    "%autoreload 1\n",
    "\n",
    "import cProfile\n",
    "%load_ext line_profiler\n",
    "from line_profiler import LineProfiler"
   ]
  },
  {
   "cell_type": "code",
   "execution_count": 2,
   "metadata": {},
   "outputs": [
    {
     "name": "stdout",
     "output_type": "stream",
     "text": [
      "('ASRL/dev/ttyS1::INSTR', 'ASRL/dev/ttyS0::INSTR')\n"
     ]
    }
   ],
   "source": [
    "rm = visa.ResourceManager('@py')\n",
    "print(rm.list_resources())"
   ]
  },
  {
   "cell_type": "code",
   "execution_count": 3,
   "metadata": {},
   "outputs": [],
   "source": [
    "OS = rm.open_resource('USB0::1689::934::C046401::0::INSTR')\n",
    "#print(OS.query(\"*IDN?\"))"
   ]
  },
  {
   "cell_type": "code",
   "execution_count": 4,
   "metadata": {},
   "outputs": [
    {
     "name": "stdout",
     "output_type": "stream",
     "text": [
      "TEKTRONIX,TDS 2024C,C046401,CF:91.1CT FV:v24.26\n",
      "\n"
     ]
    }
   ],
   "source": [
    "print(OS.query(\"*IDN?\"))"
   ]
  },
  {
   "cell_type": "code",
   "execution_count": 5,
   "metadata": {},
   "outputs": [
    {
     "name": "stdout",
     "output_type": "stream",
     "text": [
      "187 ms ± 735 µs per loop (mean ± std. dev. of 7 runs, 10 loops each)\n"
     ]
    }
   ],
   "source": [
    "%timeit values = OS.query_binary_values('CURVe?', datatype='b', is_big_endian=True)"
   ]
  },
  {
   "cell_type": "code",
   "execution_count": 3,
   "metadata": {},
   "outputs": [
    {
     "name": "stdout",
     "output_type": "stream",
     "text": [
      "Oscilloscope ID: TEKTRONIX,TDS 2024C,C046401,CF:91.1CT FV:v24.26\n",
      "\n"
     ]
    }
   ],
   "source": [
    "%aimport devices.TDS2024C\n",
    "OS = devices.TDS2024C.TDS2024C()"
   ]
  },
  {
   "cell_type": "code",
   "execution_count": 4,
   "metadata": {},
   "outputs": [],
   "source": [
    "OS.set_acquisition_stop('RUNSTop')"
   ]
  },
  {
   "cell_type": "code",
   "execution_count": null,
   "metadata": {},
   "outputs": [],
   "source": [
    "%aimport devices.TDS2024C\n",
    "t, y = OS.retrieve_current_waveform()"
   ]
  },
  {
   "cell_type": "code",
   "execution_count": 5,
   "metadata": {},
   "outputs": [
    {
     "name": "stdout",
     "output_type": "stream",
     "text": [
      "Acquisition timed out\n"
     ]
    }
   ],
   "source": [
    "%aimport devices.TDS2024C\n",
    "t, y = OS.acquire_average_waveform(4)"
   ]
  }
 ],
 "metadata": {
  "kernelspec": {
   "display_name": "CU-PWFA",
   "language": "python",
   "name": "cu-pwfa"
  },
  "language_info": {
   "codemirror_mode": {
    "name": "ipython",
    "version": 3
   },
   "file_extension": ".py",
   "mimetype": "text/x-python",
   "name": "python",
   "nbconvert_exporter": "python",
   "pygments_lexer": "ipython3",
   "version": "3.6.2"
  }
 },
 "nbformat": 4,
 "nbformat_minor": 2
}

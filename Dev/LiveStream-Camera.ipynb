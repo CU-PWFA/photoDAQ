{
 "cells": [
  {
   "cell_type": "code",
   "execution_count": 1,
   "metadata": {},
   "outputs": [],
   "source": [
    "import sys\n",
    "sys.path.append('../')\n",
    "import daq"
   ]
  },
  {
   "cell_type": "code",
   "execution_count": 2,
   "metadata": {},
   "outputs": [
    {
     "name": "stdout",
     "output_type": "stream",
     "text": [
      "Camera ID: Blackfly BFLY-PGE-31S4M,17583372,FV:1.61.3.0\n",
      "Device 17583372 successfully connected and process started.\n"
     ]
    }
   ],
   "source": [
    "DAQ = daq.Daq(desc='Test Descritpion')\n",
    "DAQ.connect_instr('Camera', 17583372)"
   ]
  },
  {
   "cell_type": "code",
   "execution_count": 3,
   "metadata": {},
   "outputs": [
    {
     "name": "stdout",
     "output_type": "stream",
     "text": [
      "173.0\n",
      "176.0\n",
      "179.0\n",
      "197.0\n",
      "168.0\n",
      "178.0\n",
      "191.0\n",
      "182.0\n",
      "173.0\n",
      "196.0\n",
      "187.0\n",
      "171.0\n",
      "181.0\n",
      "189.0\n",
      "188.0\n",
      "182.0\n",
      "181.0\n",
      "189.0\n",
      "191.0\n",
      "193.0\n",
      "186.0\n",
      "192.0\n",
      "183.0\n",
      "202.0\n",
      "193.0\n",
      "201.0\n",
      "193.0\n",
      "197.0\n",
      "187.0\n",
      "186.0\n",
      "205.0\n",
      "201.0\n",
      "200.0\n",
      "186.0\n",
      "178.0\n",
      "198.0\n",
      "204.0\n",
      "185.0\n",
      "211.0\n",
      "186.0\n",
      "193.0\n",
      "198.0\n",
      "187.0\n",
      "188.0\n",
      "214.0\n",
      "193.0\n",
      "190.0\n",
      "191.0\n",
      "187.0\n",
      "180.0\n",
      "173.0\n",
      "187.0\n",
      "187.0\n",
      "190.0\n",
      "197.0\n",
      "186.0\n",
      "183.0\n",
      "216.0\n",
      "215.0\n",
      "214.0\n",
      "217.0\n",
      "212.0\n",
      "206.0\n",
      "214.0\n",
      "212.0\n",
      "203.0\n",
      "212.0\n",
      "200.0\n",
      "364.0\n",
      "595.0\n",
      "0.0\n",
      "0.0\n",
      "0.0\n",
      "0.0\n",
      "0.0\n",
      "0.0\n",
      "0.0\n",
      "0.0\n",
      "0.0\n",
      "0.0\n",
      "0.0\n",
      "0.0\n",
      "0.0\n",
      "0.0\n",
      "0.0\n",
      "0.0\n",
      "0.0\n",
      "0.0\n",
      "0.0\n",
      "0.0\n",
      "0.0\n",
      "0.0\n",
      "0.0\n",
      "900.0\n",
      "523.0\n",
      "214.0\n",
      "202.0\n",
      "211.0\n",
      "215.0\n",
      "176.0\n",
      "193.0\n",
      "192.0\n",
      "182.0\n",
      "204.0\n",
      "205.0\n",
      "191.0\n",
      "198.0\n",
      "185.0\n",
      "191.0\n",
      "184.0\n",
      "197.0\n",
      "196.0\n",
      "188.0\n",
      "204.0\n",
      "208.0\n",
      "190.0\n",
      "190.0\n",
      "192.0\n",
      "187.0\n"
     ]
    }
   ],
   "source": [
    "DAQ.send_command(DAQ.command_queue[17583372], 'live_stream')"
   ]
  },
  {
   "cell_type": "code",
   "execution_count": 4,
   "metadata": {
    "scrolled": true
   },
   "outputs": [],
   "source": [
    "DAQ.end_dataset()"
   ]
  },
  {
   "cell_type": "code",
   "execution_count": 5,
   "metadata": {},
   "outputs": [],
   "source": [
    "for key in DAQ.instr:\n",
    "    for elem in DAQ.instr[key]:\n",
    "        DAQ.disconnect_instr(key, elem)"
   ]
  }
 ],
 "metadata": {
  "kernelspec": {
   "display_name": "CU-PWFA",
   "language": "python",
   "name": "cu-pwfa"
  },
  "language_info": {
   "codemirror_mode": {
    "name": "ipython",
    "version": 3
   },
   "file_extension": ".py",
   "mimetype": "text/x-python",
   "name": "python",
   "nbconvert_exporter": "python",
   "pygments_lexer": "ipython3",
   "version": "3.6.2"
  }
 },
 "nbformat": 4,
 "nbformat_minor": 2
}

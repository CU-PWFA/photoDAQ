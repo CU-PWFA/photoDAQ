{
 "cells": [
  {
   "cell_type": "code",
   "execution_count": 1,
   "metadata": {},
   "outputs": [
    {
     "name": "stdout",
     "output_type": "stream",
     "text": [
      "# XPS host:         169.254.248.150 (169.254.248.150)\n",
      "# Firmware:         XPS-D-N13012\n",
      "# Current Time:     Wed Jun  9 09:34:07 2021\n",
      "# Last Reboot:      Mon Jun  7 09:52:44 2021\n",
      "# Trajectory Group: None\n",
      "# Groups and Stages\n",
      "Group1 (singleaxisinuse), Status: Ready state from motion\n",
      "   Group1.Pos (UTS@UTS100PP@XPS-DRV11)\n",
      "      Hardware Status: First driver powered on - ZM low level\n",
      "      Positioner Errors: OK\n"
     ]
    }
   ],
   "source": [
    "import pysftp\n",
    "from newportxps import NewportXPS\n",
    "xps = NewportXPS('169.254.248.150',username='Administrator', password='Administrator')\n",
    "xps.read_systemini()\n",
    "print(xps.status_report())"
   ]
  },
  {
   "cell_type": "code",
   "execution_count": 90,
   "metadata": {
    "collapsed": true
   },
   "outputs": [],
   "source": [
    "#for gname, info in xps.groups.items():    \n",
    "#    print(gname, info)\n",
    "\n",
    "#for sname, info in xps.stages.items():\n",
    "#    print(sname, xps.get_stage_position(sname), info)\n",
    "\n",
    "#xps.set_velocity('Group1.Pos',10)\n",
    "\n",
    "xps.initialize_allgroups()"
   ]
  },
  {
   "cell_type": "code",
   "execution_count": 91,
   "metadata": {
    "collapsed": true
   },
   "outputs": [],
   "source": [
    "xps.home_allgroups()"
   ]
  },
  {
   "cell_type": "code",
   "execution_count": 34,
   "metadata": {},
   "outputs": [
    {
     "data": {
      "text/plain": [
       "0"
      ]
     },
     "execution_count": 34,
     "metadata": {},
     "output_type": "execute_result"
    }
   ],
   "source": [
    "#xps.move_stage('Group1.Pos',5,1)\n",
    "xps.get_stage_position('Group1.Pos')"
   ]
  },
  {
   "cell_type": "code",
   "execution_count": 30,
   "metadata": {},
   "outputs": [
    {
     "data": {
      "text/plain": [
       "OrderedDict([('Group1', 'Ready state from motion')])"
      ]
     },
     "execution_count": 30,
     "metadata": {},
     "output_type": "execute_result"
    }
   ],
   "source": [
    "xps.get_group_status()"
   ]
  },
  {
   "cell_type": "code",
   "execution_count": 4,
   "metadata": {},
   "outputs": [
    {
     "data": {
      "text/plain": [
       "OrderedDict([('Group1',\n",
       "              OrderedDict([('category', 'singleaxisinuse'),\n",
       "                           ('positioners', ['Pos'])]))])"
      ]
     },
     "execution_count": 4,
     "metadata": {},
     "output_type": "execute_result"
    }
   ],
   "source": [
    "xps.read_systemini()"
   ]
  },
  {
   "cell_type": "code",
   "execution_count": 5,
   "metadata": {
    "collapsed": true
   },
   "outputs": [],
   "source": [
    "xps.kill_group()"
   ]
  },
  {
   "cell_type": "code",
   "execution_count": 74,
   "metadata": {},
   "outputs": [
    {
     "name": "stdout",
     "output_type": "stream",
     "text": [
      "# XPS host:         169.254.248.150 (169.254.248.150)\n",
      "# Firmware:         XPS-D-N13012\n",
      "# Current Time:     Tue Jun  8 09:02:51 2021\n",
      "# Last Reboot:      Mon Jun  7 09:34:01 2021\n",
      "# Trajectory Group: None\n",
      "# Groups and Stages\n",
      "Group1 (singleaxisinuse), Status: Ready state from motion\n",
      "   Group1.Pos (UTS@UTS100PP@XPS-DRV11)\n",
      "      Hardware Status: First driver powered on - ZM high level\n",
      "      Positioner Errors: OK\n"
     ]
    }
   ],
   "source": [
    "print(xps.status_report())"
   ]
  },
  {
   "cell_type": "code",
   "execution_count": 3,
   "metadata": {},
   "outputs": [
    {
     "data": {
      "text/plain": [
       "20"
      ]
     },
     "execution_count": 3,
     "metadata": {},
     "output_type": "execute_result"
    }
   ],
   "source": [
    "xps.get_stage_position('Group1.Pos')"
   ]
  },
  {
   "cell_type": "code",
   "execution_count": 87,
   "metadata": {},
   "outputs": [
    {
     "name": "stdout",
     "output_type": "stream",
     "text": [
      "OrderedDict([('Group1', OrderedDict([('category', 'singleaxisinuse'), ('positioners', ['Pos'])]))])\n"
     ]
    }
   ],
   "source": [
    "print(xps.read_systemini())"
   ]
  },
  {
   "cell_type": "code",
   "execution_count": 23,
   "metadata": {},
   "outputs": [
    {
     "data": {
      "text/plain": [
       "OrderedDict([('Group1',\n",
       "              'Not initialized state due to a GroupKill or KillAll command')])"
      ]
     },
     "execution_count": 23,
     "metadata": {},
     "output_type": "execute_result"
    }
   ],
   "source": [
    "xps.get_group_status()"
   ]
  },
  {
   "cell_type": "code",
   "execution_count": 2,
   "metadata": {},
   "outputs": [
    {
     "ename": "AttributeError",
     "evalue": "'NewportXPS' object has no attribute 'get_group_status_mod_v2'",
     "output_type": "error",
     "traceback": [
      "\u001b[0;31m---------------------------------------------------------------------------\u001b[0m",
      "\u001b[0;31mAttributeError\u001b[0m                            Traceback (most recent call last)",
      "\u001b[0;32m<ipython-input-2-01ea073b512b>\u001b[0m in \u001b[0;36m<module>\u001b[0;34m()\u001b[0m\n\u001b[0;32m----> 1\u001b[0;31m \u001b[0mxps\u001b[0m\u001b[0;34m.\u001b[0m\u001b[0mget_group_status_mod_v2\u001b[0m\u001b[0;34m(\u001b[0m\u001b[0;34m)\u001b[0m\u001b[0;34m\u001b[0m\u001b[0m\n\u001b[0m",
      "\u001b[0;31mAttributeError\u001b[0m: 'NewportXPS' object has no attribute 'get_group_status_mod_v2'"
     ]
    }
   ],
   "source": [
    "xps.get_group_status_mod_v2()"
   ]
  },
  {
   "cell_type": "code",
   "execution_count": 19,
   "metadata": {},
   "outputs": [
    {
     "name": "stdout",
     "output_type": "stream",
     "text": [
      "{1: 'Group1'}\n"
     ]
    }
   ],
   "source": [
    "for gname, info in xps.groups.items():\n",
    "    group_list = [gname]\n",
    "    count = 1\n",
    "    dict_groupnames = {}\n",
    "    \n",
    "    for i in group_list:\n",
    "        dict_groupnames[count] = i\n",
    "        count+=1\n",
    "    print(dict_groupnames)"
   ]
  },
  {
   "cell_type": "code",
   "execution_count": 21,
   "metadata": {},
   "outputs": [
    {
     "data": {
      "text/plain": [
       "'Group1'"
      ]
     },
     "execution_count": 21,
     "metadata": {},
     "output_type": "execute_result"
    }
   ],
   "source": [
    "dict_groupnames[1]"
   ]
  },
  {
   "cell_type": "code",
   "execution_count": 29,
   "metadata": {},
   "outputs": [
    {
     "name": "stdout",
     "output_type": "stream",
     "text": [
      "{1: 'Group1.Pos'}\n"
     ]
    }
   ],
   "source": [
    "for sname, info in xps.stages.items():\n",
    "    stage_list = [sname]\n",
    "    count = 1\n",
    "    dict_stagenames = {}\n",
    "    \n",
    "    for i in stage_list:\n",
    "        dict_stagenames[count] = i\n",
    "        count+=1\n",
    "    print(dict_stagenames)"
   ]
  },
  {
   "cell_type": "code",
   "execution_count": 2,
   "metadata": {},
   "outputs": [
    {
     "ename": "AttributeError",
     "evalue": "'NewportXPS' object has no attribute 'get_single_groupstatus'",
     "output_type": "error",
     "traceback": [
      "\u001b[0;31m---------------------------------------------------------------------------\u001b[0m",
      "\u001b[0;31mAttributeError\u001b[0m                            Traceback (most recent call last)",
      "\u001b[0;32m<ipython-input-2-c309c9a8df1b>\u001b[0m in \u001b[0;36m<module>\u001b[0;34m()\u001b[0m\n\u001b[0;32m----> 1\u001b[0;31m \u001b[0mxps\u001b[0m\u001b[0;34m.\u001b[0m\u001b[0mget_single_groupstatus\u001b[0m\u001b[0;34m(\u001b[0m\u001b[0;34m)\u001b[0m\u001b[0;34m\u001b[0m\u001b[0m\n\u001b[0m",
      "\u001b[0;31mAttributeError\u001b[0m: 'NewportXPS' object has no attribute 'get_single_groupstatus'"
     ]
    }
   ],
   "source": [
    "xps.get_single_groupstatus()"
   ]
  },
  {
   "cell_type": "code",
   "execution_count": null,
   "metadata": {
    "collapsed": true
   },
   "outputs": [],
   "source": []
  }
 ],
 "metadata": {
  "kernelspec": {
   "display_name": "CU-PWFA",
   "language": "python",
   "name": "cu-pwfa"
  },
  "language_info": {
   "codemirror_mode": {
    "name": "ipython",
    "version": 3
   },
   "file_extension": ".py",
   "mimetype": "text/x-python",
   "name": "python",
   "nbconvert_exporter": "python",
   "pygments_lexer": "ipython3",
   "version": "3.6.2"
  }
 },
 "nbformat": 4,
 "nbformat_minor": 2
}

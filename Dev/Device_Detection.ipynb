{
 "cells": [
  {
   "cell_type": "code",
   "execution_count": 1,
   "metadata": {
    "collapsed": true
   },
   "outputs": [],
   "source": [
    "import visa\n",
    "import sys\n",
    "sys.path.append('../')\n",
    "\n",
    "import devices.TDS2024C\n",
    "import PyCapture2 as pc2\n",
    "import devices.Camera\n",
    "import daq\n",
    "import file"
   ]
  },
  {
   "cell_type": "code",
   "execution_count": 5,
   "metadata": {},
   "outputs": [
    {
     "name": "stdout",
     "output_type": "stream",
     "text": [
      "('ASRL/dev/ttyS0::INSTR', 'ASRL/dev/ttyACM1::INSTR', 'USB0::1689::934::C046401::0::INSTR')\n"
     ]
    }
   ],
   "source": [
    "rm = visa.ResourceManager('@py')\n",
    "print(rm.list_resources())"
   ]
  },
  {
   "cell_type": "code",
   "execution_count": 3,
   "metadata": {
    "collapsed": true
   },
   "outputs": [],
   "source": [
    "bus = pc2.BusManager()\n",
    "cam = bus.discoverGigECameras()"
   ]
  },
  {
   "cell_type": "code",
   "execution_count": 4,
   "metadata": {},
   "outputs": [
    {
     "name": "stdout",
     "output_type": "stream",
     "text": [
      "17571186\n",
      "b'Blackfly BFLY-PGE-50A2M'\n"
     ]
    }
   ],
   "source": [
    "print(cam[0].serialNumber)\n",
    "print(cam[0].modelName)"
   ]
  },
  {
   "cell_type": "code",
   "execution_count": 10,
   "metadata": {},
   "outputs": [
    {
     "name": "stdout",
     "output_type": "stream",
     "text": [
      "b'Bus 002 Device 001: ID 1d6b:0003 Linux Foundation 3.0 root hub'\n",
      "b'Bus 001 Device 003: ID 046d:c31c Logitech, Inc. Keyboard K120'\n",
      "b'Bus 001 Device 002: ID 046d:c52b Logitech, Inc. Unifying Receiver'\n",
      "b'Bus 001 Device 015: ID 0699:03a6 Tektronix, Inc. '\n",
      "b'Bus 001 Device 017: ID 2457:1012  '\n",
      "b'Bus 001 Device 014: ID 0416:5011 Winbond Electronics Corp. Virtual Com Port'\n",
      "b'Bus 001 Device 008: ID 2109:2817 VIA Labs, Inc. '\n",
      "b'Bus 001 Device 007: ID 2109:2817 VIA Labs, Inc. '\n",
      "b'Bus 001 Device 006: ID 2109:2817 VIA Labs, Inc. '\n",
      "b'Bus 001 Device 005: ID 1a40:0101 Terminus Technology Inc. Hub'\n",
      "b'Bus 001 Device 004: ID 1a40:0101 Terminus Technology Inc. Hub'\n",
      "b'Bus 001 Device 001: ID 1d6b:0002 Linux Foundation 2.0 root hub'\n",
      "[{'id': b'1d6b:0003', 'tag': b'Linux Foundation 3.0 root hub', 'device': \"/dev/bus/usb/b'002'/b'001'\"}, {'id': b'046d:c31c', 'tag': b'Logitech, Inc. Keyboard K120', 'device': \"/dev/bus/usb/b'001'/b'003'\"}, {'id': b'046d:c52b', 'tag': b'Logitech, Inc. Unifying Receiver', 'device': \"/dev/bus/usb/b'001'/b'002'\"}, {'id': b'0699:03a6', 'tag': b'Tektronix, Inc. ', 'device': \"/dev/bus/usb/b'001'/b'015'\"}, {'id': b'2457:1012', 'tag': b' ', 'device': \"/dev/bus/usb/b'001'/b'017'\"}, {'id': b'0416:5011', 'tag': b'Winbond Electronics Corp. Virtual Com Port', 'device': \"/dev/bus/usb/b'001'/b'014'\"}, {'id': b'2109:2817', 'tag': b'VIA Labs, Inc. ', 'device': \"/dev/bus/usb/b'001'/b'008'\"}, {'id': b'2109:2817', 'tag': b'VIA Labs, Inc. ', 'device': \"/dev/bus/usb/b'001'/b'007'\"}, {'id': b'2109:2817', 'tag': b'VIA Labs, Inc. ', 'device': \"/dev/bus/usb/b'001'/b'006'\"}, {'id': b'1a40:0101', 'tag': b'Terminus Technology Inc. Hub', 'device': \"/dev/bus/usb/b'001'/b'005'\"}, {'id': b'1a40:0101', 'tag': b'Terminus Technology Inc. Hub', 'device': \"/dev/bus/usb/b'001'/b'004'\"}, {'id': b'1d6b:0002', 'tag': b'Linux Foundation 2.0 root hub', 'device': \"/dev/bus/usb/b'001'/b'001'\"}]\n"
     ]
    }
   ],
   "source": [
    "import re\n",
    "import subprocess\n",
    "device_re = re.compile(b\"Bus (?P<bus>\\d+) Device (?P<device>\\d+): ID (?P<id>\\w+:\\w+) (?P<tag>.*)\", re.I)\n",
    "df = subprocess.check_output(\"lsusb\")\n",
    "\n",
    "devices = []\n",
    "for i in df.split(b'\\n'):\n",
    "    if i:\n",
    "        print(str(i))\n",
    "        info = device_re.match(i)\n",
    "        if info:\n",
    "            dinfo = info.groupdict()\n",
    "            dinfo['device'] = '/dev/bus/usb/%s/%s' % (dinfo.pop('bus'), dinfo.pop('device'))\n",
    "            devices.append(dinfo)\n",
    "print(devices)\n",
    "# USB id 0416:5011 is the KA3005P power supply\n",
    "# USB id 0699:03a6 is the TDS2024C scope\n"
   ]
  },
  {
   "cell_type": "code",
   "execution_count": 4,
   "metadata": {},
   "outputs": [
    {
     "name": "stdout",
     "output_type": "stream",
     "text": [
      "/dev/ttyS0 - ttyS0\n",
      "/dev/ttyACM0 - ttyACM0\n",
      "[]\n"
     ]
    }
   ],
   "source": [
    "import serial as ser\n",
    "import serial.tools.list_ports as prtlst\n",
    "\n",
    "global COMs\n",
    "COMs=[]\n",
    "def getCOMs():\n",
    "    global COMs\n",
    "    pts= prtlst.comports()\n",
    "\n",
    "    for pt in pts:\n",
    "        print(pt)\n",
    "        if 'USB' in pt[1]: #check 'USB' string in device description\n",
    "            COMs.append(pt[0])\n",
    "getCOMs()\n",
    "print(COMs)"
   ]
  },
  {
   "cell_type": "code",
   "execution_count": 22,
   "metadata": {},
   "outputs": [
    {
     "name": "stdout",
     "output_type": "stream",
     "text": [
      "<SeaBreezeDevice HR4000:michaelito>\n",
      "michaelito\n"
     ]
    },
    {
     "data": {
      "text/plain": [
       "'michaelito'"
      ]
     },
     "execution_count": 22,
     "metadata": {},
     "output_type": "execute_result"
    }
   ],
   "source": [
    "import seabreeze.spectrometers as sb\n",
    "devices = sb.list_devices()\n",
    "print(devices[0])\n",
    "print(devices[0].serial)"
   ]
  },
  {
   "cell_type": "code",
   "execution_count": 48,
   "metadata": {},
   "outputs": [
    {
     "name": "stdout",
     "output_type": "stream",
     "text": [
      "0\n"
     ]
    }
   ],
   "source": [
    "import os\n",
    "ret = os.system(\"ping -c 1 169.254.248.180\")\n",
    "print(ret)"
   ]
  },
  {
   "cell_type": "code",
   "execution_count": 52,
   "metadata": {},
   "outputs": [
    {
     "name": "stdout",
     "output_type": "stream",
     "text": [
      "{17583372: {'type': 'Camera', 'adr': 17583372, 'model': b'Blackfly BFLY-PGE-31S4M'}, 17570564: {'type': 'Camera', 'adr': 17570564, 'model': b'Blackfly BFLY-PGE-13S2M'}, 17529184: {'type': 'Camera', 'adr': 17529184, 'model': b'Blackfly BFLY-PGE-50S5M'}, 17571186: {'type': 'Camera', 'adr': 17571186, 'model': b'Blackfly BFLY-PGE-50A2M'}, 'C046401': {'type': 'TDS2024C', 'adr': 'USB0::1689::934::C046401::0::INSTR', 'model': 'TDS2024C'}, 'ttyACM1': {'type': 'KA3005P', 'adr': 'ttyACM1', 'model': 'KA3005P'}, 'ttyACM0': {'type': 'KA3005P', 'adr': 'ttyACM0', 'model': 'KA3005P'}, 'michaelito': {'type': 'HR4000', 'adr': 'michaelito', 'model': 'HR4000'}, 5025: {'type': 'SRSDG645', 'adr': 5025, 'model': 'SRSDG645'}}\n"
     ]
    }
   ],
   "source": [
    "instr = {}\n",
    "# First scan for cameras\n",
    "cams = pc2.BusManager().discoverGigECameras()\n",
    "for cam in cams:\n",
    "    instr[cam.serialNumber] = {\n",
    "                    'type' : 'Camera',\n",
    "                    'adr' : cam.serialNumber,\n",
    "                    'model' : cam.modelName\n",
    "                    }\n",
    "# Scan for USB devices using pyVisa\n",
    "rm = visa.ResourceManager('@py')\n",
    "visaDevices = rm.list_resources()\n",
    "for name in visaDevices:\n",
    "    if name == 'USB0::1689::934::C046401::0::INSTR':\n",
    "        instr['C046401'] = {\n",
    "                    'type' : 'TDS2024C',\n",
    "                    'adr' : name,\n",
    "                    'model' : 'TDS2024C'\n",
    "                        }\n",
    "# Find all serial over USB ports\n",
    "pts = prtlst.comports()\n",
    "for pt in pts:\n",
    "    if 'USB' in pt[1]: # check 'USB' string in device description\n",
    "        # Ping for the device ID to see what it is\n",
    "        dev = ser.Serial(pt[0],\n",
    "                                    baudrate=9600,\n",
    "                                    bytesize=8,\n",
    "                                    parity='N',\n",
    "                                    stopbits=1,\n",
    "                                    timeout=1)\n",
    "        dev.write(b\"*IDN?\")\n",
    "        ID = dev.read(16).decode(\"utf-8\")\n",
    "        if ID == 'KORADKA3005PV2.0':\n",
    "            adr = pt[0].split('/')[-1]\n",
    "            instr[adr] = {\n",
    "                    'type' : 'KA3005P',\n",
    "                    'adr' : adr,\n",
    "                    'model' : 'KA3005P'\n",
    "                        }\n",
    "# Find all the connected spectrometers\n",
    "devices = sb.list_devices()\n",
    "for dev in devices:\n",
    "    instr[dev.serial] = {\n",
    "                    'type' : dev.model,\n",
    "                    'adr' : dev.serial,\n",
    "                    'model' : dev.model\n",
    "                        }\n",
    "# Ping the signal delay generator\n",
    "ret = os.system(\"ping -c 1 169.254.248.180\")\n",
    "if ret == 0:\n",
    "    instr[5025] = {\n",
    "                    'type' : 'SRSDG645',\n",
    "                    'adr' : 5025,\n",
    "                    'model' : 'SRSDG645'\n",
    "                        }\n",
    "\n",
    "print(instr)"
   ]
  },
  {
   "cell_type": "code",
   "execution_count": 1,
   "metadata": {},
   "outputs": [
    {
     "name": "stdout",
     "output_type": "stream",
     "text": [
      "/dev/ttyS0\n",
      "/dev/ttyUSB0\n",
      "/dev/ttyACM1\n",
      "/dev/ttyACM0\n"
     ]
    }
   ],
   "source": [
    "import serial as ser\n",
    "import serial.tools.list_ports as prtlst\n",
    "pts = prtlst.comports()\n",
    "for pt in pts:\n",
    "    print(pt[0])"
   ]
  },
  {
   "cell_type": "code",
   "execution_count": 2,
   "metadata": {},
   "outputs": [
    {
     "data": {
      "text/plain": [
       "'5573631333835150F150'"
      ]
     },
     "execution_count": 2,
     "metadata": {},
     "output_type": "execute_result"
    }
   ],
   "source": [
    "pts[3].serial_number"
   ]
  },
  {
   "cell_type": "code",
   "execution_count": 32,
   "metadata": {},
   "outputs": [
    {
     "name": "stdout",
     "output_type": "stream",
     "text": [
      "1659 8963\n"
     ]
    }
   ],
   "source": [
    "print(pts[1].vid, pts[1].pid)"
   ]
  }
 ],
 "metadata": {
  "kernelspec": {
   "display_name": "CU-PWFA",
   "language": "python",
   "name": "cu-pwfa"
  },
  "language_info": {
   "codemirror_mode": {
    "name": "ipython",
    "version": 3
   },
   "file_extension": ".py",
   "mimetype": "text/x-python",
   "name": "python",
   "nbconvert_exporter": "python",
   "pygments_lexer": "ipython3",
   "version": "3.6.2"
  }
 },
 "nbformat": 4,
 "nbformat_minor": 2
}

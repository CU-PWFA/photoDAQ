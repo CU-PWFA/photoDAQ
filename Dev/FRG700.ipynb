{
 "cells": [
  {
   "cell_type": "code",
   "execution_count": 1,
   "metadata": {
    "collapsed": true
   },
   "outputs": [],
   "source": [
    "import serial\n",
    "import time\n",
    "import sys\n",
    "sys.path.append('../')\n",
    "\n",
    "import devices.FRG700\n",
    "%load_ext autoreload\n",
    "%autoreload 1"
   ]
  },
  {
   "cell_type": "code",
   "execution_count": 2,
   "metadata": {},
   "outputs": [
    {
     "name": "stdout",
     "output_type": "stream",
     "text": [
      "b'FRG700\\r'\n"
     ]
    }
   ],
   "source": [
    "gauge = serial.Serial(\"/dev/ttyACM0\",\n",
    "                       baudrate=9600,\n",
    "                       bytesize=8,\n",
    "                       parity='N',\n",
    "                       stopbits=1,\n",
    "                       timeout=2)\n",
    "gauge.write(b\"*IDN?\")\n",
    "print(gauge.readline(7))"
   ]
  },
  {
   "cell_type": "code",
   "execution_count": 5,
   "metadata": {},
   "outputs": [
    {
     "name": "stdout",
     "output_type": "stream",
     "text": [
      "b'FRG700\\r'\n"
     ]
    }
   ],
   "source": [
    "gauge2 = serial.Serial(\"/dev/ttyACM0\",\n",
    "                       baudrate=9600,\n",
    "                       bytesize=8,\n",
    "                       parity='N',\n",
    "                       stopbits=1,\n",
    "                       timeout=2)\n",
    "gauge2.write(b\"*IDN?\")\n",
    "print(gauge2.readline(7))"
   ]
  },
  {
   "cell_type": "code",
   "execution_count": 2,
   "metadata": {},
   "outputs": [
    {
     "name": "stdout",
     "output_type": "stream",
     "text": [
      "Vacuum gauge ID: FRG700\n"
     ]
    }
   ],
   "source": [
    "gauge = devices.FRG700.FRG700(\"/dev/ttyACM0\")"
   ]
  },
  {
   "cell_type": "code",
   "execution_count": 3,
   "metadata": {},
   "outputs": [
    {
     "name": "stdout",
     "output_type": "stream",
     "text": [
      "   0.000031889,   0.000000000,   0.000000000,   0.008412682\r\n",
      "\n",
      "['   0.000031889', '   0.000000000', '   0.000000000', '   0.008412682\\r\\n']\n",
      "0.000031889, 0.000000000, 0.000000000, 0.008412682\n"
     ]
    }
   ],
   "source": [
    "p = gauge.get_pressure()\n",
    "print(\"%0.9f, %0.9f, %0.9f, %0.9f\" % (p[0], p[1], p[2], p[3]))"
   ]
  },
  {
   "cell_type": "code",
   "execution_count": 4,
   "metadata": {},
   "outputs": [
    {
     "data": {
      "text/plain": [
       "[1495, 0, 0, 1503]"
      ]
     },
     "execution_count": 4,
     "metadata": {},
     "output_type": "execute_result"
    }
   ],
   "source": [
    "gauge.get_voltage()"
   ]
  }
 ],
 "metadata": {
  "kernelspec": {
   "display_name": "CU-PWFA",
   "language": "python",
   "name": "cu-pwfa"
  },
  "language_info": {
   "codemirror_mode": {
    "name": "ipython",
    "version": 3
   },
   "file_extension": ".py",
   "mimetype": "text/x-python",
   "name": "python",
   "nbconvert_exporter": "python",
   "pygments_lexer": "ipython3",
   "version": "3.6.2"
  }
 },
 "nbformat": 4,
 "nbformat_minor": 2
}

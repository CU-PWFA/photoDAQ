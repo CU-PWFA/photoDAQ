{
 "cells": [
  {
   "cell_type": "code",
   "execution_count": 1,
   "metadata": {
    "collapsed": true
   },
   "outputs": [],
   "source": [
    "import serial\n",
    "import time\n",
    "import sys\n",
    "sys.path.append('../')\n",
    "\n",
    "import devices.KA3005P\n",
    "%load_ext autoreload\n",
    "%autoreload 1"
   ]
  },
  {
   "cell_type": "code",
   "execution_count": 2,
   "metadata": {},
   "outputs": [
    {
     "name": "stdout",
     "output_type": "stream",
     "text": [
      "b'PSID = 00.00'\n"
     ]
    }
   ],
   "source": [
    "# Test serial connection and controlling the power supply\n",
    "PS = serial.Serial(\"/dev/ttyUSB0\",\n",
    "                       baudrate=9600,\n",
    "                       bytesize=8,\n",
    "                       parity='N',\n",
    "                       stopbits=1,\n",
    "                       timeout=1)\n",
    "PS.flushInput()\n",
    "PS.write(b\"VSET1:\"+bytes(\"20.23\", \"utf-8\"))\n",
    "time.sleep(0.05)\n",
    "PS.write(b\"VOUT1?\")\n",
    "PSID = PS.read(5)\n",
    "print(b'PSID = '+PSID)"
   ]
  },
  {
   "cell_type": "code",
   "execution_count": 3,
   "metadata": {},
   "outputs": [
    {
     "name": "stdout",
     "output_type": "stream",
     "text": [
      "b'PSID = \\x10'\n"
     ]
    }
   ],
   "source": [
    "PS.write(b\"STATUS?\")\n",
    "PSID = PS.read(5)\n",
    "print(b'PSID = '+PSID)"
   ]
  },
  {
   "cell_type": "code",
   "execution_count": 3,
   "metadata": {},
   "outputs": [
    {
     "name": "stdout",
     "output_type": "stream",
     "text": [
      "Power supply ID: KORADKA3005PV2.0\n",
      "Constant voltage (C.V)\n",
      "Power supply ON\n"
     ]
    }
   ],
   "source": [
    "# Development of the class\n",
    "%aimport devices.KA3005P\n",
    "PS = devices.KA3005P.KA3005P(\"/dev/ttyACM0\")\n",
    "PS.turn_on()\n",
    "time.sleep(0.05)\n",
    "PS.status()"
   ]
  },
  {
   "cell_type": "code",
   "execution_count": 8,
   "metadata": {},
   "outputs": [
    {
     "data": {
      "text/plain": [
       "15.0"
      ]
     },
     "execution_count": 8,
     "metadata": {},
     "output_type": "execute_result"
    }
   ],
   "source": [
    "PS.get_voltage()"
   ]
  },
  {
   "cell_type": "code",
   "execution_count": 2,
   "metadata": {},
   "outputs": [
    {
     "data": {
      "text/plain": [
       "'\\x0000.0'"
      ]
     },
     "execution_count": 2,
     "metadata": {},
     "output_type": "execute_result"
    }
   ],
   "source": [
    "b'\\x0000.0'.decode()"
   ]
  },
  {
   "cell_type": "code",
   "execution_count": 5,
   "metadata": {},
   "outputs": [
    {
     "name": "stdout",
     "output_type": "stream",
     "text": [
      "Constant voltage (C.V)\n",
      "Power supply OFF\n"
     ]
    }
   ],
   "source": [
    "PS.turn_off()\n",
    "time.sleep(0.05)\n",
    "PS.status()"
   ]
  },
  {
   "cell_type": "code",
   "execution_count": 6,
   "metadata": {},
   "outputs": [
    {
     "name": "stdout",
     "output_type": "stream",
     "text": [
      "Constant voltage (C.V)\n",
      "Power supply ON\n"
     ]
    }
   ],
   "source": [
    "PS.set_voltage(1.00)\n",
    "time.sleep(0.05)\n",
    "PS.turn_on()\n",
    "time.sleep(0.05)\n",
    "PS.status()"
   ]
  },
  {
   "cell_type": "code",
   "execution_count": 7,
   "metadata": {
    "collapsed": true
   },
   "outputs": [],
   "source": [
    "PS.turn_off()"
   ]
  }
 ],
 "metadata": {
  "kernelspec": {
   "display_name": "CU-PWFA",
   "language": "python",
   "name": "cu-pwfa"
  },
  "language_info": {
   "codemirror_mode": {
    "name": "ipython",
    "version": 3
   },
   "file_extension": ".py",
   "mimetype": "text/x-python",
   "name": "python",
   "nbconvert_exporter": "python",
   "pygments_lexer": "ipython3",
   "version": "3.6.2"
  }
 },
 "nbformat": 4,
 "nbformat_minor": 2
}

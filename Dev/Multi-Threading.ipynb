{
 "cells": [
  {
   "cell_type": "code",
   "execution_count": 1,
   "metadata": {},
   "outputs": [],
   "source": [
    "import sys\n",
    "sys.path.append('../')\n",
    "import daq\n",
    "import file\n",
    "import globalVAR as Gvar\n",
    "import visa\n",
    "import numpy as np\n",
    "import time\n",
    "from random import randint\n",
    "import PyCapture2 as pc2\n",
    "\n",
    "%load_ext autoreload\n",
    "%autoreload 1"
   ]
  },
  {
   "cell_type": "code",
   "execution_count": 5,
   "metadata": {
    "scrolled": false
   },
   "outputs": [
    {
     "name": "stdout",
     "output_type": "stream",
     "text": [
      "Ethernet error: No Cameras Detected\n"
     ]
    },
    {
     "name": "stderr",
     "output_type": "stream",
     "text": [
      "Process Process-14:\n",
      "Traceback (most recent call last):\n",
      "  File \"/home/cu-pwfa/anaconda3/envs/CU-PWFA/lib/python3.6/multiprocessing/process.py\", line 249, in _bootstrap\n",
      "    self.run()\n",
      "  File \"/home/cu-pwfa/anaconda3/envs/CU-PWFA/lib/python3.6/multiprocessing/process.py\", line 93, in run\n",
      "    self._target(*self._args, **self._kwargs)\n",
      "  File \"../daq.py\", line 221, in start_process\n",
      "    proc_class(name, adr, c_queue, r_queue, o_queue)\n",
      "  File \"../processes/process.py\", line 38, in __init__\n",
      "    self.connect_instr(name, adr)\n",
      "  File \"../processes/process.py\", line 56, in connect_instr\n",
      "    device = instr_class(adr)\n",
      "  File \"../devices/Camera.py\", line 17, in __init__\n",
      "    self.setupCam(serial)\n",
      "  File \"../devices/Camera.py\", line 50, in setupCam\n",
      "    width = self.imageINFO.maxWidth\n",
      "AttributeError: 'Camera' object has no attribute 'imageINFO'\n"
     ]
    }
   ],
   "source": [
    "DAQ = daq.Daq(desc='Test Descritpion')\n",
    "DAQ.connect_instr('TDS2024C', 1)\n",
    "DAQ.connect_instr('KA3005P', 'ttyUSB0')\n",
    "#DAQ.connect_instr('Camera', 17570564)\n",
    "#DAQ.connect_instr('Camera', 17529184)\n",
    "#DAQ.connect_instr('HR4000', 'michaelito')"
   ]
  },
  {
   "cell_type": "code",
   "execution_count": 7,
   "metadata": {},
   "outputs": [],
   "source": [
    "v = np.linspace(0, 20, 21)\n",
    "#DAQ.send_command(DAQ.command_queue[17583372], 'set_frame_rate', (10,))\n",
    "#DAQ.send_command(DAQ.command_queue[17529184], 'set_frame_rate', (10,))\n",
    "for i in range(len(v)):\n",
    "    DAQ.send_command(DAQ.command_queue['ttyUSB0'], 'set_record_voltage', (v[i],))\n",
    "    DAQ.send_command(DAQ.command_queue['C046401'], 'save_average_waveform',  (128,))\n",
    "#DAQ.send_command(DAQ.command_queue[17583372], 'take_photo')\n",
    "#DAQ.send_command(DAQ.command_queue[17529184], 'save_stream', (10,))\n",
    "#time.sleep(4)\n",
    "#DAQ.send_command(DAQ.command_queue[17583372], 'stop_capture')\n",
    "\n",
    "#DAQ.send_command(DAQ.command_queue[17529184], 'stop_capture')"
   ]
  },
  {
   "cell_type": "code",
   "execution_count": 8,
   "metadata": {},
   "outputs": [],
   "source": [
    "DAQ.end_dataset()\n",
    "#DAQ.adv_dataset()"
   ]
  },
  {
   "cell_type": "code",
   "execution_count": 4,
   "metadata": {},
   "outputs": [],
   "source": [
    "#DAQ.send_command(DAQ.command_queue[17583372], 'stop_capture')\n",
    "#DAQ.send_command(DAQ.command_queue[17529184], 'stop_capture')"
   ]
  },
  {
   "cell_type": "code",
   "execution_count": 4,
   "metadata": {},
   "outputs": [],
   "source": [
    "#DAQ.send_command(DAQ.command_queue['ttyUSB0'], 'set_record_voltage', (15.67,))\n",
    "#DAQ.send_command(DAQ.command_queue['C046401'], 'save_waveform')"
   ]
  },
  {
   "cell_type": "code",
   "execution_count": 9,
   "metadata": {},
   "outputs": [],
   "source": [
    "for key in DAQ.instr:\n",
    "    for elem in DAQ.instr[key]:\n",
    "        DAQ.disconnect_instr(key, elem)"
   ]
  }
 ],
 "metadata": {
  "kernelspec": {
   "display_name": "CU-PWFA",
   "language": "python",
   "name": "cu-pwfa"
  },
  "language_info": {
   "codemirror_mode": {
    "name": "ipython",
    "version": 3
   },
   "file_extension": ".py",
   "mimetype": "text/x-python",
   "name": "python",
   "nbconvert_exporter": "python",
   "pygments_lexer": "ipython3",
   "version": "3.6.2"
  }
 },
 "nbformat": 4,
 "nbformat_minor": 2
}

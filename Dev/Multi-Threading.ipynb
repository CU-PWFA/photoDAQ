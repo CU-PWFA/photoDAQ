{
 "cells": [
  {
   "cell_type": "code",
   "execution_count": 1,
   "metadata": {
    "collapsed": true
   },
   "outputs": [],
   "source": [
    "import sys\n",
    "sys.path.append('../')\n",
    "import daq\n",
    "import file\n",
    "import globalVAR as Gvar\n",
    "import visa\n",
    "import numpy as np\n",
    "import time\n",
    "from random import randint\n",
    "import PyCapture2 as pc2\n",
    "\n",
    "%load_ext autoreload\n",
    "%autoreload 1"
   ]
  },
  {
   "cell_type": "code",
   "execution_count": 2,
   "metadata": {},
   "outputs": [
    {
     "name": "stdout",
     "output_type": "stream",
     "text": [
      "Power supply ID: KORADKA3005PV2.0\n",
      "Device ttyUSB0 successfully connected and process started.\n",
      "Oscilloscope ID: TEKTRONIX,TDS 2024C,C046401,CF:91.1CT FV:v24.26\n",
      "\n",
      "Device C046401 successfully connected and process started.\n",
      "Camera ID: Blackfly BFLY-PGE-50S5M,17529184,FV:1.53.3.0\n",
      "Camera ID: Blackfly BFLY-PGE-31S4M,17583372,FV:1.61.3.0\n",
      "Device 17529184 successfully connected and process started.\n",
      "Device 17583372 successfully connected and process started.\n"
     ]
    }
   ],
   "source": [
    "%aimport daq\n",
    "DAQ = daq.Daq()\n",
    "DAQ.connect_instr('TDS2024C', 1)\n",
    "DAQ.connect_instr('KA3005P', 'ttyUSB0')\n",
    "DAQ.connect_instr('Camera', 17583372)\n",
    "DAQ.connect_instr('Camera', 17529184)\n",
    "#DAQ.connect_instr('HR4000', 'michaelito')"
   ]
  },
  {
   "cell_type": "code",
   "execution_count": 3,
   "metadata": {
    "collapsed": true
   },
   "outputs": [],
   "source": [
    "v = np.linspace(0, 20, 1000)\n",
    "DAQ.send_command(DAQ.command_queue[17583372], 'set_frame_rate', (10,))\n",
    "DAQ.send_command(DAQ.command_queue[17529184], 'set_frame_rate', (10,))\n",
    "for i in range(1000):\n",
    "    DAQ.send_command(DAQ.command_queue['ttyUSB0'], 'set_voltage', (v[i],))\n",
    "DAQ.send_command(DAQ.command_queue[17583372], 'save_stream')\n",
    "DAQ.send_command(DAQ.command_queue[17529184], 'save_stream')\n",
    "#time.sleep(4)\n",
    "#DAQ.send_command(DAQ.command_queue[17583372], 'stop_capture')\n",
    "#DAQ.send_command(DAQ.command_queue[17529184], 'stop_capture')"
   ]
  },
  {
   "cell_type": "code",
   "execution_count": 4,
   "metadata": {
    "collapsed": true
   },
   "outputs": [],
   "source": [
    "DAQ.send_command(DAQ.command_queue[17583372], 'stop_capture')\n",
    "DAQ.send_command(DAQ.command_queue[17529184], 'stop_capture')"
   ]
  },
  {
   "cell_type": "code",
   "execution_count": 4,
   "metadata": {},
   "outputs": [],
   "source": [
    "DAQ.send_command(DAQ.command_queue['ttyUSB0'], 'set_record_voltage', (15.67,))\n",
    "DAQ.send_command(DAQ.command_queue['C046401'], 'save_waveform')"
   ]
  },
  {
   "cell_type": "code",
   "execution_count": 5,
   "metadata": {
    "collapsed": true
   },
   "outputs": [],
   "source": [
    "names = []\n",
    "for name in DAQ.instr:\n",
    "    names.append(name)\n",
    "for name in names:\n",
    "    DAQ.disconnect_instr(name)"
   ]
  }
 ],
 "metadata": {
  "kernelspec": {
   "display_name": "CU-PWFA",
   "language": "python",
   "name": "cu-pwfa"
  },
  "language_info": {
   "codemirror_mode": {
    "name": "ipython",
    "version": 3
   },
   "file_extension": ".py",
   "mimetype": "text/x-python",
   "name": "python",
   "nbconvert_exporter": "python",
   "pygments_lexer": "ipython3",
   "version": "3.6.2"
  }
 },
 "nbformat": 4,
 "nbformat_minor": 2
}

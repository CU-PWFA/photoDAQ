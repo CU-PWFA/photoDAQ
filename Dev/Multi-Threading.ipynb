{
 "cells": [
  {
   "cell_type": "code",
   "execution_count": 7,
   "metadata": {},
   "outputs": [
    {
     "name": "stdout",
     "output_type": "stream",
     "text": [
      "The autoreload extension is already loaded. To reload it, use:\n",
      "  %reload_ext autoreload\n"
     ]
    }
   ],
   "source": [
    "import sys\n",
    "sys.path.append('../')\n",
    "import daq\n",
    "import file\n",
    "import globalVAR as Gvar\n",
    "import visa\n",
    "import numpy as np\n",
    "import time\n",
    "from random import randint\n",
    "import PyCapture2 as pc2\n",
    "\n",
    "%load_ext autoreload\n",
    "%autoreload 1"
   ]
  },
  {
   "cell_type": "code",
   "execution_count": 19,
   "metadata": {
    "scrolled": false
   },
   "outputs": [
    {
     "name": "stdout",
     "output_type": "stream",
     "text": [
      "Power supply ID: KORADKA3005PV2.0\n",
      "Device serial/by-id/usb-Nuvoton_USB_Virtual_COM_A02014090305-if00 successfully connected and process started.\n",
      "Device 5025 successfully connected and process started.\n",
      "Oscilloscope ID: TEKTRONIX,TDS 2024C,C046401,CF:91.1CT FV:v24.26\n",
      "\n",
      "Device C046401 successfully connected and process started.\n",
      "Camera ID: Blackfly BFLY-PGE-50A2M,17571186,FV:1.53.3.1\n",
      "Device 17571186 successfully connected and process started.\n",
      "\n",
      "Stream Finished\n"
     ]
    },
    {
     "name": "stderr",
     "output_type": "stream",
     "text": [
      "Process Process-55:\n",
      "Traceback (most recent call last):\n",
      "  File \"/home/cu-pwfa/anaconda3/envs/CU-PWFA/lib/python3.6/multiprocessing/process.py\", line 249, in _bootstrap\n",
      "    self.run()\n",
      "  File \"/home/cu-pwfa/anaconda3/envs/CU-PWFA/lib/python3.6/multiprocessing/process.py\", line 93, in run\n",
      "    self._target(*self._args, **self._kwargs)\n",
      "  File \"../daq.py\", line 242, in save_process\n",
      "    if save(data, meta['Data set'], meta['Shot number']) == False:\n",
      "  File \"../file.py\", line 245, in save_SET\n",
      "    np.save(dirName + fileName, data)\n",
      "  File \"/home/cu-pwfa/anaconda3/envs/CU-PWFA/lib/python3.6/site-packages/numpy/lib/npyio.py\", line 502, in save\n",
      "    fid = open(file, \"wb\")\n",
      "FileNotFoundError: [Errno 2] No such file or directory: '/mnt/md0/DAQ/SET/year_2018/month_12/day_10/1812100008/serial/by-id/usb-Nuvoton_USB_Virtual_COM_A02014090305-if00_1812100008_0000.npy'\n"
     ]
    }
   ],
   "source": [
    "DAQ = daq.Daq(desc='Test Descritpion')\n",
    "DAQ.connect_instr('TDS2024C', 1)\n",
    "DAQ.connect_instr('KA3005P', 'serial/by-id/usb-Nuvoton_USB_Virtual_COM_A02014090305-if00')\n",
    "DAQ.connect_instr('Camera', 17571186)\n",
    "#DAQ.connect_instr('Camera', 17529184)\n",
    "#DAQ.connect_instr('HR4000', 'michaelito')\n",
    "DAQ.connect_instr('SRSDG645', 5025)"
   ]
  },
  {
   "cell_type": "code",
   "execution_count": 3,
   "metadata": {},
   "outputs": [],
   "source": [
    "settings = {'T0' : {'delay' : [['T0', 'T0', 0],\n",
    "                               ['T0', 'T1', 0]],\n",
    "                    'output' : ['T0', 0.5]},\n",
    "\n",
    "            'AB' : {'delay' : [['T0', 'A', 0],\n",
    "                               ['A', 'B', 0.001]],\n",
    "                    'output' : ['AB', 0.5]},\n",
    "\n",
    "            'CD' : {'delay' : [['T0', 'C', 0],\n",
    "                               ['C', 'D', 0.001]],\n",
    "                    'output' : ['CD', 0.5]},\n",
    "\n",
    "            'EF' : {'delay' : [['T0', 'E', 0],\n",
    "                               ['E', 'F', 0.001]],\n",
    "                    'output' : ['EF', 0.5]},\n",
    "\n",
    "            'GH' : {'delay' : [['T0', 'G', 0],\n",
    "                               ['G', 'H', 0.001]],\n",
    "                    'output' : ['GH', 0.5]},\n",
    "\n",
    "            }"
   ]
  },
  {
   "cell_type": "code",
   "execution_count": 20,
   "metadata": {},
   "outputs": [],
   "source": [
    "DAQ.save_meta()"
   ]
  },
  {
   "cell_type": "code",
   "execution_count": 27,
   "metadata": {},
   "outputs": [],
   "source": [
    "#DAQ.send_command(DAQ.command_queue[5025], 'set_settings', (settings,))\n",
    "#DAQ.send_command(DAQ.command_queue[5025], 'start_trigger_thread')\n",
    "\n",
    "#DAQ.send_command(DAQ.command_queue[5025], 'set_trigger_source', (0,))\n",
    "\n",
    "#DAQ.send_command(DAQ.command_queue[5025], 'recall_settings_SDG', (1,))\n",
    "#DAQ.send_command(DAQ.command_queue[5025], 'save_settings')\n",
    "#DAQ.send_command(DAQ.command_queue[5025], 'save_settings_SDG', (1,))\n",
    "#DAQ.send_command(DAQ.command_queue[5025], 'save_delays', (default_settings,))\n",
    "DAQ.send_command(DAQ.command_queue['serial/by-id/usb-Nuvoton_USB_Virtual_COM_A02014090305-if00'],\n",
    "                 'set_record_voltage', (1,))\n",
    "#v = np.linspace(0, 20, 21)\n",
    "#DAQ.send_command(DAQ.command_queue[17583372], 'set_frame_rate', (10,))\n",
    "#DAQ.send_command(DAQ.command_queue[17529184], 'set_frame_rate', (10,))\n",
    "#for i in range(len(v)):\n",
    "#    DAQ.send_command(DAQ.command_queue['ttyUSB0'], 'set_record_voltage', (v[i],))\n",
    "#    DAQ.send_command(DAQ.command_queue['C046401'], 'save_average_waveform',  (128,))\n",
    "#DAQ.send_command(DAQ.command_queue[17571186], 'take_photo')\n",
    "#DAQ.send_command(DAQ.command_queue[17571186], 'save_stream', (11,))\n",
    "#time.sleep(4)\n",
    "#DAQ.send_command(DAQ.command_queue[17571186], 'stop_capture')\n",
    "\n",
    "#DAQ.send_command(DAQ.command_queue[17529184], 'stop_capture')"
   ]
  },
  {
   "cell_type": "code",
   "execution_count": 4,
   "metadata": {
    "collapsed": true
   },
   "outputs": [],
   "source": [
    "#DAQ.send_command(DAQ.command_queue[17583372], 'stop_capture')\n",
    "#DAQ.send_command(DAQ.command_queue[17529184], 'stop_capture')"
   ]
  },
  {
   "cell_type": "code",
   "execution_count": 4,
   "metadata": {
    "collapsed": true
   },
   "outputs": [],
   "source": [
    "#DAQ.send_command(DAQ.command_queue['ttyUSB0'], 'set_record_voltage', (15.67,))\n",
    "#DAQ.send_command(DAQ.command_queue['C046401'], 'save_waveform')"
   ]
  },
  {
   "cell_type": "code",
   "execution_count": 28,
   "metadata": {},
   "outputs": [],
   "source": [
    "for key in DAQ.instr:\n",
    "    for elem in DAQ.instr[key]:\n",
    "        DAQ.disconnect_instr(key, elem)"
   ]
  }
 ],
 "metadata": {
  "kernelspec": {
   "display_name": "CU-PWFA",
   "language": "python",
   "name": "cu-pwfa"
  },
  "language_info": {
   "codemirror_mode": {
    "name": "ipython",
    "version": 3
   },
   "file_extension": ".py",
   "mimetype": "text/x-python",
   "name": "python",
   "nbconvert_exporter": "python",
   "pygments_lexer": "ipython3",
   "version": "3.6.2"
  }
 },
 "nbformat": 4,
 "nbformat_minor": 2
}

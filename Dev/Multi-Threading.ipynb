{
 "cells": [
  {
   "cell_type": "code",
   "execution_count": 1,
   "metadata": {},
   "outputs": [],
   "source": [
    "import sys\n",
    "sys.path.append('../')\n",
    "import daq\n",
    "import file\n",
    "import globalVAR as Gvar\n",
    "import visa\n",
    "import numpy as np\n",
    "import time\n",
    "\n",
    "%load_ext autoreload\n",
    "%autoreload 1"
   ]
  },
  {
   "cell_type": "code",
   "execution_count": 2,
   "metadata": {},
   "outputs": [
    {
     "name": "stdout",
     "output_type": "stream",
     "text": [
      "Oscilloscope ID: TEKTRONIX,TDS 2024C,C046401,CF:91.1CT FV:v24.26\n",
      "\n",
      "Power supply ID: KORADKA3005PV2.0\n",
      "Camera ID: Blackfly BFLY-PGE-31S4M,17583372,FV:1.61.3.0\n",
      "Camera ID: Blackfly BFLY-PGE-50S5M,17529184,FV:1.53.3.0\n",
      "Spectrometer ID: HR4000,michaelito\n"
     ]
    }
   ],
   "source": [
    "%aimport daq\n",
    "DAQ = daq.Daq()\n",
    "DAQ.connect_instr('TDS2024C', 1)\n",
    "DAQ.connect_instr('KA3005P', 'ttyUSB0')\n",
    "DAQ.connect_instr('Camera', 17583372)\n",
    "DAQ.connect_instr('Camera', 17529184)\n",
    "DAQ.connect_instr('HR4000', 'michaelito')"
   ]
  },
  {
   "cell_type": "code",
   "execution_count": 3,
   "metadata": {},
   "outputs": [],
   "source": [
    "start1 = daq.Command(DAQ.instr[\"17583372\"].start_capture, response=False)\n",
    "start2 = daq.Command(DAQ.instr[\"17529184\"].start_capture, response=False)\n",
    "pic1 = daq.Command(DAQ.instr[\"17583372\"].retrieve_buffer, response=True)\n",
    "pic2 = daq.Command(DAQ.instr[\"17529184\"].retrieve_buffer, response=True)\n",
    "stop1 = daq.Command(DAQ.instr[\"17583372\"].stop_capture, response=False)\n",
    "stop2 = daq.Command(DAQ.instr[\"17529184\"].stop_capture, response=False)"
   ]
  },
  {
   "cell_type": "code",
   "execution_count": 4,
   "metadata": {},
   "outputs": [],
   "source": [
    "serial = \"None\"\n",
    "v = np.linspace(0, 20, 1000)\n",
    "for i in range(1000):\n",
    "    com = daq.Command(DAQ.instr[serial].set_voltage, (v[i],), False)\n",
    "    DAQ.command_queue[serial].put(com)"
   ]
  },
  {
   "cell_type": "code",
   "execution_count": 6,
   "metadata": {},
   "outputs": [],
   "source": [
    "dataSet = Gvar.getDataSetNum()\n",
    "file.add_to_log(dataSet)\n",
    "file.make_dir_struct('META', dataSet)\n",
    "file.make_dir_struct('IMAGE', dataSet)\n",
    "def callback(ret, shot):\n",
    "    data = {}\n",
    "    data['meta'] = {'Serial number' : 17583372}\n",
    "    data['image'] = ret\n",
    "    file.save_IMAGE(data, dataSet, shot)\n",
    "\n",
    "DAQ.command_queue[\"17583372\"].put(start1)\n",
    "for i in range(10):\n",
    "    com = daq.Command(DAQ.instr[\"17583372\"].retrieve_buffer, callback=callback, callargs=(i,))\n",
    "    DAQ.command_queue[\"17583372\"].put(com)\n",
    "DAQ.command_queue[\"17583372\"].put(stop1)"
   ]
  },
  {
   "cell_type": "code",
   "execution_count": 6,
   "metadata": {},
   "outputs": [
    {
     "name": "stdout",
     "output_type": "stream",
     "text": [
      "An exception was encountered in thread: 17583372, b'Camera has not been connected.'\n",
      "An exception was encountered in thread: 17583372, b'Camera has not been connected.'\n",
      "An exception was encountered in thread: 17583372, b'Camera has not been connected.'\n",
      "An exception was encountered in thread: 17583372, b'Camera has not been connected.'\n",
      "An exception was encountered in thread: 17583372, b'Camera has not been connected.'\n",
      "An exception was encountered in thread: 17583372, b'Camera has not been connected.'\n",
      "An exception was encountered in thread: 17583372, b'Camera has not been connected.'\n",
      "An exception was encountered in thread: 17583372, b'Camera has not been connected.'"
     ]
    }
   ],
   "source": [
    "names = []\n",
    "for name in DAQ.instr:\n",
    "    names.append(name)\n",
    "for name in names:\n",
    "    DAQ.disconnect_instr(name)"
   ]
  }
 ],
 "metadata": {
  "kernelspec": {
   "display_name": "CU-PWFA",
   "language": "python",
   "name": "cu-pwfa"
  },
  "language_info": {
   "codemirror_mode": {
    "name": "ipython",
    "version": 3
   },
   "file_extension": ".py",
   "mimetype": "text/x-python",
   "name": "python",
   "nbconvert_exporter": "python",
   "pygments_lexer": "ipython3",
   "version": "3.6.2"
  }
 },
 "nbformat": 4,
 "nbformat_minor": 2
}

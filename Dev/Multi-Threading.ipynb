{
 "cells": [
  {
   "cell_type": "code",
   "execution_count": 1,
   "metadata": {},
   "outputs": [],
   "source": [
    "import sys\n",
    "sys.path.append('../')\n",
    "import daq\n",
    "import file\n",
    "import globalVAR as Gvar\n",
    "import visa\n",
    "import numpy as np\n",
    "import time\n",
    "from random import randint\n",
    "import PyCapture2 as pc2\n",
    "\n",
    "%load_ext autoreload\n",
    "%autoreload 1"
   ]
  },
  {
   "cell_type": "code",
   "execution_count": 2,
   "metadata": {},
   "outputs": [
    {
     "name": "stdout",
     "output_type": "stream",
     "text": [
      "Power supply ID: KORADKA3005PV2.0\n",
      "Device None successfully connected and process started.\n",
      "Camera ID: Blackfly BFLY-PGE-50S5M,17529184,FV:1.53.3.0\n",
      "Camera ID: Blackfly BFLY-PGE-31S4M,17583372,FV:1.61.3.0\n",
      "Device 17529184 successfully connected and process started.\n",
      "Device 17583372 successfully connected and process started.\n",
      "Duration 0.097859\n",
      "Duration 0.04602500000000001\n",
      "Duration 0.07859999999999999\n",
      "Duration 0.045373\n",
      "Duration 0.043578000000000006\n",
      "Duration 0.08018399999999998\n",
      "Duration 0.04744300000000001\n",
      "Duration 0.042901999999999996\n",
      "Duration 0.07672100000000004\n",
      "Duration 0.040781999999999985\n",
      "Duration 0.07428400000000002\n",
      "Duration 0.045817999999999914\n",
      "Duration 0.04379200000000005\n",
      "Duration 0.07620900000000003\n",
      "Duration 0.05201199999999995\n",
      "Duration 0.09260500000000005\n",
      "Duration 0.04325699999999999\n",
      "Duration 0.07560699999999998\n",
      "Duration 0.08360400000000001\n",
      "Duration 0.07732099999999997\n",
      "Duration 0.07163399999999998\n",
      "Duration 0.08228899999999995\n",
      "Duration 0.048382000000000036\n",
      "Duration 0.11002099999999992\n",
      "Duration 0.08478600000000003\n"
     ]
    }
   ],
   "source": [
    "%aimport daq\n",
    "DAQ = daq.Daq()\n",
    "#DAQ.connect_instr('TDS2024C', 1)\n",
    "DAQ.connect_instr('KA3005P', 'ttyUSB0')\n",
    "DAQ.connect_instr('Camera', 17583372)\n",
    "DAQ.connect_instr('Camera', 17529184)\n",
    "#DAQ.connect_instr('HR4000', 'michaelito')"
   ]
  },
  {
   "cell_type": "code",
   "execution_count": 3,
   "metadata": {},
   "outputs": [],
   "source": [
    "serial = \"None\"\n",
    "v = np.linspace(0, 20, 1000)\n",
    "for i in range(1000):\n",
    "    DAQ.send_command(DAQ.command_queue[\"None\"], 'set_voltage', (v[i],))\n",
    "DAQ.send_command(DAQ.command_queue[17583372], 'save_stream')\n",
    "DAQ.send_command(DAQ.command_queue[17529184], 'save_stream')\n",
    "time.sleep(2)\n",
    "DAQ.send_command(DAQ.command_queue[17583372], 'stop_capture')\n",
    "DAQ.send_command(DAQ.command_queue[17529184], 'stop_capture')"
   ]
  },
  {
   "cell_type": "code",
   "execution_count": 5,
   "metadata": {},
   "outputs": [],
   "source": [
    "names = []\n",
    "for name in DAQ.instr:\n",
    "    names.append(name)\n",
    "for name in names:\n",
    "    DAQ.disconnect_instr(name)"
   ]
  }
 ],
 "metadata": {
  "kernelspec": {
   "display_name": "CU-PWFA",
   "language": "python",
   "name": "cu-pwfa"
  },
  "language_info": {
   "codemirror_mode": {
    "name": "ipython",
    "version": 3
   },
   "file_extension": ".py",
   "mimetype": "text/x-python",
   "name": "python",
   "nbconvert_exporter": "python",
   "pygments_lexer": "ipython3",
   "version": "3.6.2"
  }
 },
 "nbformat": 4,
 "nbformat_minor": 2
}

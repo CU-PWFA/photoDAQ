{
 "cells": [
  {
   "cell_type": "code",
   "execution_count": 1,
   "metadata": {},
   "outputs": [],
   "source": [
    "import sys\n",
    "sys.path.append('../')\n",
    "import daq\n",
    "import file\n",
    "import globalVAR as Gvar\n",
    "import visa\n",
    "import numpy as np\n",
    "import time\n",
    "from random import randint\n",
    "import PyCapture2 as pc2\n",
    "\n",
    "%load_ext autoreload\n",
    "%autoreload 1"
   ]
  },
  {
   "cell_type": "code",
   "execution_count": 2,
   "metadata": {},
   "outputs": [
    {
     "name": "stdout",
     "output_type": "stream",
     "text": [
      "Oscilloscope ID: TEKTRONIX,TDS 2024C,C046401,CF:91.1CT FV:v24.26\n",
      "\n",
      "Power supply ID: KORADKA3005PV2.0\n",
      "Camera ID: Blackfly BFLY-PGE-31S4M,17583372,FV:1.61.3.0\n",
      "Camera ID: Blackfly BFLY-PGE-50S5M,17529184,FV:1.53.3.0\n"
     ]
    }
   ],
   "source": [
    "%aimport daq\n",
    "DAQ = daq.Daq()\n",
    "DAQ.connect_instr('TDS2024C', 1)\n",
    "DAQ.connect_instr('KA3005P', 'ttyUSB0')\n",
    "DAQ.connect_instr('Camera', 17583372)\n",
    "DAQ.connect_instr('Camera', 17529184)\n",
    "#DAQ.connect_instr('HR4000', 'michaelito')"
   ]
  },
  {
   "cell_type": "code",
   "execution_count": 3,
   "metadata": {
    "collapsed": true
   },
   "outputs": [],
   "source": [
    "start1 = daq.Command(DAQ.instr[\"17583372\"].start_capture, response=False)\n",
    "start2 = daq.Command(DAQ.instr[\"17529184\"].start_capture, response=False)\n",
    "pic1 = daq.Command(DAQ.instr[\"17583372\"].retrieve_buffer, response=True)\n",
    "pic2 = daq.Command(DAQ.instr[\"17529184\"].retrieve_buffer, response=True)\n",
    "stop1 = daq.Command(DAQ.instr[\"17583372\"].stop_capture, response=False)\n",
    "stop2 = daq.Command(DAQ.instr[\"17529184\"].stop_capture, response=False)"
   ]
  },
  {
   "cell_type": "code",
   "execution_count": 4,
   "metadata": {
    "collapsed": true
   },
   "outputs": [],
   "source": [
    "serial = \"None\"\n",
    "v = np.linspace(0, 20, 1000)\n",
    "for i in range(1000):\n",
    "    com = daq.Command(DAQ.instr[serial].set_voltage, (v[i],), False)\n",
    "    DAQ.command_queue[serial].put(com)"
   ]
  },
  {
   "cell_type": "code",
   "execution_count": 5,
   "metadata": {},
   "outputs": [
    {
     "name": "stdout",
     "output_type": "stream",
     "text": [
      "Take 0 at 0.870\n",
      "Take 1 at 0.921\n",
      "Take 2 at 0.958\n",
      "Take 3 at 0.995\n",
      "Take 4 at 1.031\n",
      "Take 5 at 1.067\n",
      "Take 6 at 1.104\n",
      "Take 7 at 1.140\n",
      "Take 8 at 1.176\n",
      "Take 9 at 1.213\n"
     ]
    }
   ],
   "source": [
    "dataSet = Gvar.getDataSetNum()\n",
    "file.add_to_log(dataSet)\n",
    "file.make_dir_struct('META', dataSet)\n",
    "file.make_dir_struct('IMAGE', dataSet)\n",
    "def command1(shot):\n",
    "    print('Take %d at %0.3f' % (shot, time.clock()))\n",
    "    return DAQ.instr[\"17583372\"].retrieve_buffer()\n",
    "\n",
    "def callback(ret, shot, serial):\n",
    "    #print('Save %d at %0.3f - b' % (shot, time.clock()))\n",
    "    data = {}\n",
    "    data['meta'] = {'Serial number' : serial}\n",
    "    data['image'] = ret\n",
    "    #file.save_IMAGE(data, dataSet, shot)\n",
    "    #print('Save %d at %0.3f - end' % (shot, time.clock()))\n",
    "\n",
    "DAQ.command_queue[\"17583372\"].put(start1)\n",
    "for i in range(10):\n",
    "    com = daq.Command(command1, callback=callback, args=(i,), callargs=(i,17583372))\n",
    "    DAQ.command_queue[\"17583372\"].put(com)\n",
    "DAQ.command_queue[\"17583372\"].put(stop1)"
   ]
  },
  {
   "cell_type": "code",
   "execution_count": 9,
   "metadata": {},
   "outputs": [
    {
     "name": "stdout",
     "output_type": "stream",
     "text": [
      "3.835603\n",
      "3.877146\n",
      "3.917672\n",
      "3.98333\n",
      "4.013953\n",
      "4.0437\n",
      "4.079419\n",
      "4.112563\n",
      "4.146068\n",
      "4.186884\n",
      "4.24954\n"
     ]
    }
   ],
   "source": [
    "dataSet = Gvar.getDataSetNum()\n",
    "file.add_to_log(dataSet)\n",
    "file.make_dir_struct('META', dataSet)\n",
    "file.make_dir_struct('IMAGE', dataSet)\n",
    "com = daq.Command(DAQ.instr[\"17583372\"].set_frame_rate, response=False, args=(10,))\n",
    "DAQ.command_queue[\"17583372\"].put(com)\n",
    "def sav_callback(image, shot, serial):\n",
    "    print('Callback')\n",
    "    #print('Save %d at %0.3f - b' % (shot, time.clock()))\n",
    "    #data = {}\n",
    "    #data['meta'] = {'Serial number' : serial}\n",
    "    #data['image'] = ret\n",
    "    #name = file.save_IMAGE(data, 1807090040, randint(0, 100))\n",
    "    #print(image)\n",
    "    #image.save(bytes('test1.tiff', 'utf-8'), pc2.IMAGE_FILE_FORMAT.TIFF)\n",
    "    #print('Save %d at %0.3f - end' % (shot, time.clock()))\n",
    "\n",
    "def cam_callback(image, args):\n",
    "    response = daq.Response(image, sav_callback, args)\n",
    "    #image.save(bytes('test1.tiff', 'utf-8'), pc2.IMAGE_FILE_FORMAT.TIFF)\n",
    "    DAQ.response_queue[\"17583372\"].put(response)\n",
    "    print(time.clock())\n",
    "\n",
    "def command(shot, serial):\n",
    "    DAQ.instr[\"17583372\"].start_capture(cam_callback, (shot, serial))\n",
    "\n",
    "com = daq.Command(command, response=False, args=(0, \"17583372\"), wait=1)\n",
    "DAQ.command_queue[\"17583372\"].put(com)\n",
    "DAQ.command_queue[\"17583372\"].put(stop1)"
   ]
  },
  {
   "cell_type": "code",
   "execution_count": 9,
   "metadata": {},
   "outputs": [
    {
     "name": "stdout",
     "output_type": "stream",
     "text": [
      "Take 98 at 9.165\n",
      "Take 99 at 9.193\n"
     ]
    }
   ],
   "source": [
    "names = []\n",
    "for name in DAQ.instr:\n",
    "    names.append(name)\n",
    "for name in names:\n",
    "    DAQ.disconnect_instr(name)"
   ]
  }
 ],
 "metadata": {
  "kernelspec": {
   "display_name": "CU-PWFA",
   "language": "python",
   "name": "cu-pwfa"
  },
  "language_info": {
   "codemirror_mode": {
    "name": "ipython",
    "version": 3
   },
   "file_extension": ".py",
   "mimetype": "text/x-python",
   "name": "python",
   "nbconvert_exporter": "python",
   "pygments_lexer": "ipython3",
   "version": "3.6.2"
  }
 },
 "nbformat": 4,
 "nbformat_minor": 2
}

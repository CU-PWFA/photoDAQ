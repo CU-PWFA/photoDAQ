{
 "cells": [
  {
   "cell_type": "code",
   "execution_count": 1,
   "metadata": {
    "scrolled": false
   },
   "outputs": [
    {
     "name": "stdout",
     "output_type": "stream",
     "text": [
      "Device found.\n",
      "12345678\n"
     ]
    }
   ],
   "source": [
    "import sys\n",
    "import usb.core\n",
    "import usb.util\n",
    "import usb\n",
    "import numpy as np\n",
    "\n",
    "VID = 0x104d\n",
    "PID = 0x4000\n",
    "\n",
    "dev = usb.core.find(idVendor=VID,idProduct=PID)\n",
    "\n",
    "if dev is None:\n",
    "    raise ValueError('Device not found.')\n",
    "else:\n",
    "    print('Device found.')\n",
    "   \n",
    "      \n",
    "dev.set_configuration()   \n",
    "cfg = dev.get_active_configuration()\n",
    "intf = cfg[(0,0)]\n",
    "\n",
    "print( usb.util.get_string( dev, dev.iSerialNumber ) )"
   ]
  },
  {
   "cell_type": "code",
   "execution_count": 2,
   "metadata": {},
   "outputs": [
    {
     "name": "stdout",
     "output_type": "stream",
     "text": [
      "250\n"
     ]
    }
   ],
   "source": [
    "#print(dev)\n",
    "for i in dev:\n",
    "    sys.stdout.write(str(cfg.bMaxPower)+ '\\n')"
   ]
  },
  {
   "cell_type": "code",
   "execution_count": 3,
   "metadata": {
    "scrolled": true
   },
   "outputs": [
    {
     "name": "stdout",
     "output_type": "stream",
     "text": [
      "Config 1\n",
      "\tInterface 0,0\n",
      "\t\tEndpoint 129\n",
      "\t\tEndpoint 2\n"
     ]
    }
   ],
   "source": [
    "# show config / interface / endpoints:\n",
    "for config in dev:\n",
    "    sys.stdout.write('Config ' + str(config.bConfigurationValue) + '\\n')\n",
    "    for interface in config:\n",
    "        sys.stdout.write('\\t' + \\\n",
    "            'Interface ' + str(interface.bInterfaceNumber) + \\\n",
    "                         ',' + \\\n",
    "                         str(interface.bAlternateSetting) + \\\n",
    "                         '\\n')\n",
    "        for endpoint in interface:\n",
    "            sys.stdout.write('\\t\\t' + \\\n",
    "                             'Endpoint ' + str(endpoint.bEndpointAddress) + \\\n",
    "                             '\\n')"
   ]
  },
  {
   "cell_type": "code",
   "execution_count": 4,
   "metadata": {},
   "outputs": [
    {
     "name": "stdout",
     "output_type": "stream",
     "text": [
      "      ENDPOINT 0x2: Bulk OUT ===============================\n",
      "       bLength          :    0x7 (7 bytes)\n",
      "       bDescriptorType  :    0x5 Endpoint\n",
      "       bEndpointAddress :    0x2 OUT\n",
      "       bmAttributes     :    0x2 Bulk\n",
      "       wMaxPacketSize   :   0x40 (64 bytes)\n",
      "       bInterval        :    0x0\n",
      "      ENDPOINT 0x81: Bulk IN ===============================\n",
      "       bLength          :    0x7 (7 bytes)\n",
      "       bDescriptorType  :    0x5 Endpoint\n",
      "       bEndpointAddress :   0x81 IN\n",
      "       bmAttributes     :    0x2 Bulk\n",
      "       wMaxPacketSize   :   0x40 (64 bytes)\n",
      "       bInterval        :    0x0\n"
     ]
    }
   ],
   "source": [
    "ep_out = usb.util.find_descriptor(\n",
    "    intf,\n",
    "    # match the first OUT endpoint\n",
    "    custom_match = \\\n",
    "    lambda e: \\\n",
    "        usb.util.endpoint_direction(e.bEndpointAddress) == \\\n",
    "        usb.util.ENDPOINT_OUT)\n",
    "\n",
    "assert ep_out is not None\n",
    "\n",
    "print(ep_out)\n",
    "\n",
    "ep_in = usb.util.find_descriptor(\n",
    "    intf,\n",
    "    # match the first IN endpoint\n",
    "    custom_match = \\\n",
    "    lambda e: \\\n",
    "        usb.util.endpoint_direction(e.bEndpointAddress) == \\\n",
    "        usb.util.ENDPOINT_IN)\n",
    "\n",
    "print(ep_in)\n",
    "\n",
    "assert ep_in is not None\n",
    "assert ep_in.wMaxPacketSize == 64"
   ]
  },
  {
   "cell_type": "code",
   "execution_count": 5,
   "metadata": {
    "scrolled": true
   },
   "outputs": [
    {
     "name": "stdout",
     "output_type": "stream",
     "text": [
      "New_Focus 8742 v3.04 09/09/16 53365\r\n",
      "\n"
     ]
    }
   ],
   "source": [
    "# write the command to find ID\n",
    "\n",
    "\n",
    "# ASCII codes converted from text\n",
    "#command = [42, 73, 68, 78, 63, 13]\n",
    "command = b\"*IDN?\\r\"\n",
    "\n",
    "ep_out.write(command)\n",
    "\n",
    "\n",
    "data = ep_in.read(74,timeout=1000);\n",
    "\n",
    "# Convert ASCII codes back to text\n",
    "data_ = \"\"\n",
    "for char in data:\n",
    "    data_ = data_ + chr(char)\n",
    "    \n",
    "print(data_)"
   ]
  },
  {
   "cell_type": "code",
   "execution_count": 29,
   "metadata": {},
   "outputs": [
    {
     "data": {
      "text/plain": [
       "11"
      ]
     },
     "execution_count": 29,
     "metadata": {},
     "output_type": "execute_result"
    }
   ],
   "source": [
    "command = b\"1>2PA+1505\\r\"\n",
    "ep_out.write(command, timeout=1000)"
   ]
  },
  {
   "cell_type": "code",
   "execution_count": 30,
   "metadata": {},
   "outputs": [
    {
     "name": "stdout",
     "output_type": "stream",
     "text": [
      "1>0\r\n",
      "\n"
     ]
    }
   ],
   "source": [
    "command = b\"1>2PA?\\r\"\n",
    "ep_out.write(command, timeout=1000)\n",
    "# write(self, data, timeout = None): Writes data to the endpoint. \n",
    "# The parameter data contains the data to be sent to the endpoint and timeout is the time limit of the operation.\n",
    "# The transfer type and endpoint address are automatically inferred.\n",
    "# The method returns the number of bytes written.\n",
    "data = ep_in.read(64)\n",
    "# read(self, size_or_buffer, timeout = None): Reads data from the endpoint.\n",
    "# The parameter size_or_buffer is either the number of bytes to read or an array object where the data will\n",
    "# be put in and timeout is the time limit of the operation. The transfer type and endpoint address are \n",
    "# automatically inferred.\n",
    "# The method returns either an array object or the number of bytes actually read.\n",
    "\n",
    "data_ = \"\"\n",
    "for char in data:\n",
    "    data_ = data_ + chr(char)\n",
    "    \n",
    "print(data_)"
   ]
  },
  {
   "cell_type": "code",
   "execution_count": null,
   "metadata": {
    "collapsed": true
   },
   "outputs": [],
   "source": []
  }
 ],
 "metadata": {
  "kernelspec": {
   "display_name": "CU-PWFA",
   "language": "python",
   "name": "cu-pwfa"
  },
  "language_info": {
   "codemirror_mode": {
    "name": "ipython",
    "version": 3
   },
   "file_extension": ".py",
   "mimetype": "text/x-python",
   "name": "python",
   "nbconvert_exporter": "python",
   "pygments_lexer": "ipython3",
   "version": "3.6.2"
  }
 },
 "nbformat": 4,
 "nbformat_minor": 2
}

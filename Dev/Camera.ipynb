{
 "cells": [
  {
   "cell_type": "code",
   "execution_count": 1,
   "metadata": {},
   "outputs": [],
   "source": [
    "import sys\n",
    "sys.path.append('../')\n",
    "import numpy as np\n",
    "import matplotlib.pyplot as plt\n",
    "\n",
    "import devices.Camera\n",
    "import daq\n",
    "import file\n",
    "import PySpin\n",
    "import time\n",
    "%load_ext autoreload\n",
    "%autoreload 1"
   ]
  },
  {
   "cell_type": "code",
   "execution_count": 2,
   "metadata": {},
   "outputs": [
    {
     "name": "stdout",
     "output_type": "stream",
     "text": [
      "Camera ID: Blackfly BFLY-PGE-31S4M,17583372,FV:1.61.3.00\n"
     ]
    }
   ],
   "source": [
    "%aimport devices.Camera\n",
    "cam = devices.Camera.Camera('17583372')"
   ]
  },
  {
   "cell_type": "code",
   "execution_count": 3,
   "metadata": {},
   "outputs": [],
   "source": [
    "image = cam.take_photo()"
   ]
  },
  {
   "cell_type": "code",
   "execution_count": 4,
   "metadata": {},
   "outputs": [
    {
     "name": "stdout",
     "output_type": "stream",
     "text": [
      "12\n",
      "11 11\n",
      "2048 1536\n"
     ]
    }
   ],
   "source": [
    "print(image.GetBitsPerPixel())\n",
    "print(image.GetPixelFormat(), PySpin.PixelFormat_Mono12Packed)\n",
    "print(image.GetWidth(), image.GetHeight())"
   ]
  },
  {
   "cell_type": "code",
   "execution_count": null,
   "metadata": {},
   "outputs": [],
   "source": [
    "PySpin.PixelFormat_Mono12"
   ]
  },
  {
   "cell_type": "code",
   "execution_count": 5,
   "metadata": {},
   "outputs": [
    {
     "ename": "SpinnakerException",
     "evalue": "Spinnaker: Parameter is not initialized. Input image is NULL. [-1009]",
     "output_type": "error",
     "traceback": [
      "\u001b[0;31m---------------------------------------------------------------------------\u001b[0m",
      "\u001b[0;31mSpinnakerException\u001b[0m                        Traceback (most recent call last)",
      "\u001b[0;32m<ipython-input-5-493cc8a42805>\u001b[0m in \u001b[0;36m<module>\u001b[0;34m()\u001b[0m\n\u001b[0;32m----> 1\u001b[0;31m \u001b[0mconverted\u001b[0m \u001b[0;34m=\u001b[0m \u001b[0mimage\u001b[0m\u001b[0;34m.\u001b[0m\u001b[0mConvert\u001b[0m\u001b[0;34m(\u001b[0m\u001b[0mPySpin\u001b[0m\u001b[0;34m.\u001b[0m\u001b[0mPixelFormat_Mono16\u001b[0m\u001b[0;34m)\u001b[0m\u001b[0;34m\u001b[0m\u001b[0m\n\u001b[0m",
      "\u001b[0;32m~/anaconda3/envs/CU-PWFA/lib/python3.6/site-packages/PySpin.py\u001b[0m in \u001b[0;36mConvert\u001b[0;34m(self, *args)\u001b[0m\n\u001b[1;32m  48883\u001b[0m \u001b[0;34m\u001b[0m\u001b[0m\n\u001b[1;32m  48884\u001b[0m         \"\"\"\n\u001b[0;32m> 48885\u001b[0;31m         \u001b[0;32mreturn\u001b[0m \u001b[0m_PySpin\u001b[0m\u001b[0;34m.\u001b[0m\u001b[0m_SWIG_ImgPtr_Convert\u001b[0m\u001b[0;34m(\u001b[0m\u001b[0mself\u001b[0m\u001b[0;34m,\u001b[0m \u001b[0;34m*\u001b[0m\u001b[0margs\u001b[0m\u001b[0;34m)\u001b[0m\u001b[0;34m\u001b[0m\u001b[0m\n\u001b[0m\u001b[1;32m  48886\u001b[0m \u001b[0;34m\u001b[0m\u001b[0m\n\u001b[1;32m  48887\u001b[0m \u001b[0;34m\u001b[0m\u001b[0m\n",
      "\u001b[0;31mSpinnakerException\u001b[0m: Spinnaker: Parameter is not initialized. Input image is NULL. [-1009]"
     ]
    }
   ],
   "source": [
    "converted = image.Convert(PySpin.PixelFormat_Mono16)"
   ]
  },
  {
   "cell_type": "code",
   "execution_count": 6,
   "metadata": {},
   "outputs": [],
   "source": [
    "cam.close()\n",
    "del cam"
   ]
  },
  {
   "cell_type": "code",
   "execution_count": 3,
   "metadata": {},
   "outputs": [],
   "source": [
    "image = cam.take_photo()"
   ]
  },
  {
   "cell_type": "code",
   "execution_count": 4,
   "metadata": {
    "collapsed": true
   },
   "outputs": [],
   "source": [
    "cam.set_trigger_settings(False)"
   ]
  },
  {
   "cell_type": "code",
   "execution_count": 8,
   "metadata": {
    "collapsed": true
   },
   "outputs": [],
   "source": [
    "camera = cam.cam"
   ]
  },
  {
   "cell_type": "code",
   "execution_count": 9,
   "metadata": {
    "collapsed": true
   },
   "outputs": [],
   "source": [
    "info = camera.getCameraInfo()\n",
    "GigEConfig = camera.getGigEConfig()\n",
    "config = camera.getConfiguration()\n",
    "stats = camera.getStats()"
   ]
  },
  {
   "cell_type": "code",
   "execution_count": 24,
   "metadata": {},
   "outputs": [
    {
     "data": {
      "text/plain": [
       "{'applicationIPAddress': 2852037848,\n",
       " 'applicationPort': 4211,\n",
       " 'bayerTileFormat': 0,\n",
       " 'busNumber': 0,\n",
       " 'ccpStatus': 2,\n",
       " 'configROM': {'chipIdHi': 0,\n",
       "  'chipIdLo': 17529184,\n",
       "  'nodeVendorId': 483739,\n",
       "  'pszKeyword': b'',\n",
       "  'unitSWVer': 258,\n",
       "  'unitSpecId': 0,\n",
       "  'unitSubSWVer': 32,\n",
       "  'vendorUniqueInfo_0': 0,\n",
       "  'vendorUniqueInfo_1': 0,\n",
       "  'vendorUniqueInfo_2': 0,\n",
       "  'vendorUniqueInfo_3': 0},\n",
       " 'defaultGateway': (0, 0, 0, 0),\n",
       " 'driverName': b'None',\n",
       " 'driverType': 8,\n",
       " 'firmwareBuildTime': b'Sat Nov 14 01:09:14 2015',\n",
       " 'firmwareVersion': b'1.53.3.0',\n",
       " 'gigEMajorVersion': 1,\n",
       " 'gigEMinorVersion': 2,\n",
       " 'iidcVer': 132,\n",
       " 'interfaceType': 3,\n",
       " 'ipAddress': (169, 254, 121, 98),\n",
       " 'isColorCamera': False,\n",
       " 'macAddress': (0, 176, 157, 11, 121, 96),\n",
       " 'maximumBusSpeed': 5,\n",
       " 'modelName': b'Blackfly BFLY-PGE-50S5M',\n",
       " 'nodeNumber': 0,\n",
       " 'pcieBusSpeed': -1,\n",
       " 'sensorInfo': b'Sony IMX264 (2/3\" Mono CMOS)',\n",
       " 'sensorResolution': b'2448x2048',\n",
       " 'serialNumber': 17529184,\n",
       " 'subnetMask': (255, 255, 0, 0),\n",
       " 'userDefinedName': b'',\n",
       " 'vendorName': b'Point Grey Research',\n",
       " 'xmlURL1': b'Local:GRS_GEV_v003_256850.zip;7F1D0040;87F2',\n",
       " 'xmlURL2': b'http://www.ptgrey.com/GRS_GEV_v003_256850.xml'}"
      ]
     },
     "execution_count": 24,
     "metadata": {},
     "output_type": "execute_result"
    }
   ],
   "source": [
    "vars(GigEConfig)\n",
    "vars(config)\n",
    "vars(info)"
   ]
  },
  {
   "cell_type": "code",
   "execution_count": 29,
   "metadata": {},
   "outputs": [
    {
     "name": "stdout",
     "output_type": "stream",
     "text": [
      "Present: True\n",
      "Auto supported: True\n",
      "Manual supported: True\n",
      "Units: b'Milliseconds'\n",
      "onOff: True\n",
      "autoManual: False\n",
      "Min: 0.059545040130615234\n",
      "absValue: 0.059545040130615234\n",
      "Max: 124.02534484863281\n",
      "Min: 1\n",
      "Value: 1\n",
      "Max: 2065\n"
     ]
    }
   ],
   "source": [
    "#PROP = pc2.PROPERTY_TYPE.SHARPNESS\n",
    "#PROP = pc2.PROPERTY_TYPE.BRIGHTNESS\n",
    "#PROP = pc2.PROPERTY_TYPE.AUTO_EXPOSURE\n",
    "#PROP = pc2.PROPERTY_TYPE.BRIGHTNESS\n",
    "PROP = pc2.PROPERTY_TYPE.SHUTTER\n",
    "prop = cam.cam.getProperty(PROP)\n",
    "info = cam.cam.getPropertyInfo(PROP)\n",
    "print('Present:', info.present)\n",
    "print('Auto supported:', info.autoSupported)\n",
    "print('Manual supported:', info.manualSupported)\n",
    "print('Units:', info.units)\n",
    "print('onOff:', prop.onOff)\n",
    "print('autoManual:', prop.autoManualMode)\n",
    "print('Min:', info.absMin)\n",
    "print('absValue:', prop.absValue)\n",
    "print('Max:', info.absMax)\n",
    "print('Min:', info.min)\n",
    "print('Value:', prop.valueA)\n",
    "print('Max:', info.max)"
   ]
  },
  {
   "cell_type": "code",
   "execution_count": 4,
   "metadata": {
    "collapsed": true
   },
   "outputs": [],
   "source": [
    "cam.close()\n",
    "del cam"
   ]
  },
  {
   "cell_type": "code",
   "execution_count": 2,
   "metadata": {},
   "outputs": [
    {
     "name": "stdout",
     "output_type": "stream",
     "text": [
      "Number of cameras detected: 1\n",
      "17529184\n"
     ]
    }
   ],
   "source": [
    "system = PySpin.System.GetInstance()\n",
    "cam_list = system.GetCameras()\n",
    "num_cams = cam_list.GetSize()\n",
    "print('Number of cameras detected: %i' % num_cams)\n",
    "for i, cam in enumerate(cam_list):\n",
    "    nodemap_tl = cam.GetTLDeviceNodeMap()\n",
    "    node = PySpin.CStringPtr(nodemap_tl.GetNode('DeviceSerialNumber'))\n",
    "    if PySpin.IsAvailable(node) and PySpin.IsReadable(node):\n",
    "        value = node.ToString()\n",
    "    print(value)\n",
    "del cam\n",
    "cam_list.Clear()\n",
    "system.ReleaseInstance()\n",
    "del system"
   ]
  },
  {
   "cell_type": "code",
   "execution_count": null,
   "metadata": {
    "collapsed": true
   },
   "outputs": [],
   "source": []
  },
  {
   "cell_type": "code",
   "execution_count": null,
   "metadata": {
    "collapsed": true
   },
   "outputs": [],
   "source": [
    "info = cam.cam.getGigEImageSettings()\n",
    "info.pixelFormat"
   ]
  },
  {
   "cell_type": "code",
   "execution_count": null,
   "metadata": {
    "collapsed": true
   },
   "outputs": [],
   "source": [
    "pc2.PIXEL_FORMAT.RAW16"
   ]
  },
  {
   "cell_type": "code",
   "execution_count": null,
   "metadata": {
    "collapsed": true
   },
   "outputs": [],
   "source": [
    "image = cam.take_photo()"
   ]
  },
  {
   "cell_type": "code",
   "execution_count": null,
   "metadata": {
    "collapsed": true
   },
   "outputs": [],
   "source": [
    "print(len(image.getData())/(2048*1536))\n",
    "print(image.getData()[0:100])"
   ]
  },
  {
   "cell_type": "code",
   "execution_count": null,
   "metadata": {
    "collapsed": true
   },
   "outputs": [],
   "source": [
    "%timeit image.save(b'/media/robert/Data_Storage/daq/test.tiff', pc2.IMAGE_FILE_FORMAT.TIFF)"
   ]
  },
  {
   "cell_type": "code",
   "execution_count": null,
   "metadata": {
    "collapsed": true
   },
   "outputs": [],
   "source": [
    "tiff = plt.imread('/media/robert/Data_Storage/daq/test.tiff')\n",
    "plt.imshow(tiff/16)\n",
    "plt.colorbar()\n",
    "plt.show()"
   ]
  },
  {
   "cell_type": "code",
   "execution_count": null,
   "metadata": {
    "collapsed": true
   },
   "outputs": [],
   "source": [
    "from PIL import Image\n",
    "im = Image.open('/media/robert/Data_Storage/daq/test.tiff')\n",
    "im.info"
   ]
  },
  {
   "cell_type": "code",
   "execution_count": null,
   "metadata": {
    "collapsed": true
   },
   "outputs": [],
   "source": [
    "shutPROP = pc2.PROPERTY_TYPE.SHUTTER\n",
    "shut = cam.cam.getProperty(shutPROP)\n",
    "print(shut)"
   ]
  },
  {
   "cell_type": "code",
   "execution_count": null,
   "metadata": {
    "collapsed": true
   },
   "outputs": [],
   "source": [
    "cam.cam.disconnect()"
   ]
  },
  {
   "cell_type": "code",
   "execution_count": null,
   "metadata": {
    "collapsed": true
   },
   "outputs": [],
   "source": [
    "daq.main([['Camera'], [17571186], 'cam_test', 10])"
   ]
  },
  {
   "cell_type": "code",
   "execution_count": null,
   "metadata": {
    "collapsed": true
   },
   "outputs": [],
   "source": [
    "from PIL import Image\n",
    "dataSet = 1806150049\n",
    "\n",
    "image = file.load_IMAGE(17583372, dataSet, 10)\n",
    "print(file.decode_image_meta(image))"
   ]
  },
  {
   "cell_type": "code",
   "execution_count": null,
   "metadata": {
    "collapsed": true
   },
   "outputs": [],
   "source": [
    "tiff = plt.imread('/media/robert/Data_Storage/daq/IMAGE/year_2018/month_06/day_15/1806150049/17583372_1806150049_0010.tiff')\n",
    "plt.imshow(tiff)\n",
    "plt.colorbar()\n",
    "plt.show()"
   ]
  },
  {
   "cell_type": "code",
   "execution_count": null,
   "metadata": {
    "collapsed": true
   },
   "outputs": [],
   "source": [
    "import time\n",
    "def callback(image, i):\n",
    "    image.save(bytes('test.tiff', 'utf-8'), pc2.IMAGE_FILE_FORMAT.TIFF)\n",
    "    print(time.clock())\n",
    "#cam.cam.startCapture(callback)\n",
    "cam.start_capture(callback)#, args=(1,))\n",
    "time.sleep(1)\n",
    "cam.cam.stopCapture()"
   ]
  },
  {
   "cell_type": "code",
   "execution_count": 1,
   "metadata": {},
   "outputs": [
    {
     "name": "stdout",
     "output_type": "stream",
     "text": [
      "169 ms ± 209 µs per loop (mean ± std. dev. of 7 runs, 10 loops each)\n"
     ]
    }
   ],
   "source": [
    "# Cython implementation\n",
    "import sys\n",
    "sys.path.append('../')\n",
    "import numpy as np\n",
    "from calc.camera import convert_image\n",
    "raw = [i % 200 for i in range(8000000)]\n",
    "height = 2000\n",
    "width = 2000\n",
    "%timeit data = convert_image(raw, height, width)"
   ]
  },
  {
   "cell_type": "code",
   "execution_count": 2,
   "metadata": {},
   "outputs": [
    {
     "name": "stdout",
     "output_type": "stream",
     "text": [
      "37 ms ± 8.64 µs per loop (mean ± std. dev. of 7 runs, 10 loops each)\n",
      "576 ns ± 5.77 ns per loop (mean ± std. dev. of 7 runs, 1000000 loops each)\n",
      "234 ns ± 0.845 ns per loop (mean ± std. dev. of 7 runs, 1000000 loops each)\n",
      "37 ms ± 18.8 µs per loop (mean ± std. dev. of 7 runs, 10 loops each)\n"
     ]
    }
   ],
   "source": [
    "raw = [i % 200 for i in range(8000000)]\n",
    "height = 2000\n",
    "width = 2000\n",
    "b = bytes(raw)\n",
    "numpy_array = np.frombuffer(b, dtype=np.uint16)\n",
    "%timeit bytes(raw)\n",
    "%timeit np.frombuffer(b, dtype=np.uint16)\n",
    "%timeit numpy_array.reshape(height, width)\n",
    "%timeit np.frombuffer(bytes(raw), dtype=np.uint16).reshape(height, width) "
   ]
  },
  {
   "cell_type": "code",
   "execution_count": 1,
   "metadata": {},
   "outputs": [],
   "source": [
    "from scipy.ndimage import center_of_mass"
   ]
  }
 ],
 "metadata": {
  "kernelspec": {
   "display_name": "CU-PWFA",
   "language": "python",
   "name": "cu-pwfa"
  },
  "language_info": {
   "codemirror_mode": {
    "name": "ipython",
    "version": 3
   },
   "file_extension": ".py",
   "mimetype": "text/x-python",
   "name": "python",
   "nbconvert_exporter": "python",
   "pygments_lexer": "ipython3",
   "version": "3.6.2"
  }
 },
 "nbformat": 4,
 "nbformat_minor": 2
}

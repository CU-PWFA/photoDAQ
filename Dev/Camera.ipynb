{
 "cells": [
  {
   "cell_type": "code",
   "execution_count": 1,
   "metadata": {
    "collapsed": true
   },
   "outputs": [],
   "source": [
    "import sys\n",
    "sys.path.append('../')\n",
    "import numpy as np\n",
    "import matplotlib.pyplot as plt\n",
    "\n",
    "import PyCapture2 as pc2\n",
    "import devices.Camera\n",
    "import daq\n",
    "import file\n",
    "%load_ext autoreload\n",
    "%autoreload 1"
   ]
  },
  {
   "cell_type": "code",
   "execution_count": 2,
   "metadata": {},
   "outputs": [
    {
     "ename": "Fc2error",
     "evalue": "b'Bus Master Failure.'",
     "output_type": "error",
     "traceback": [
      "\u001b[0;31m---------------------------------------------------------------------------\u001b[0m",
      "\u001b[0;31mFc2error\u001b[0m                                  Traceback (most recent call last)",
      "\u001b[0;32m<ipython-input-2-ab3b8ed7e428>\u001b[0m in \u001b[0;36m<module>\u001b[0;34m()\u001b[0m\n\u001b[1;32m      1\u001b[0m \u001b[0mget_ipython\u001b[0m\u001b[0;34m(\u001b[0m\u001b[0;34m)\u001b[0m\u001b[0;34m.\u001b[0m\u001b[0mmagic\u001b[0m\u001b[0;34m(\u001b[0m\u001b[0;34m'aimport devices.Camera'\u001b[0m\u001b[0;34m)\u001b[0m\u001b[0;34m\u001b[0m\u001b[0m\n\u001b[0;32m----> 2\u001b[0;31m \u001b[0mcam\u001b[0m \u001b[0;34m=\u001b[0m \u001b[0mdevices\u001b[0m\u001b[0;34m.\u001b[0m\u001b[0mCamera\u001b[0m\u001b[0;34m.\u001b[0m\u001b[0mCamera\u001b[0m\u001b[0;34m(\u001b[0m\u001b[0;36m17529184\u001b[0m\u001b[0;34m)\u001b[0m\u001b[0;34m\u001b[0m\u001b[0m\n\u001b[0m",
      "\u001b[0;32m~/CU-PWFA/photoDAQ/devices/Camera.py\u001b[0m in \u001b[0;36m__init__\u001b[0;34m(self, serial)\u001b[0m\n\u001b[1;32m     21\u001b[0m             \u001b[0mThe\u001b[0m \u001b[0mserial\u001b[0m \u001b[0mnumber\u001b[0m \u001b[0mof\u001b[0m \u001b[0mthe\u001b[0m \u001b[0mcamera\u001b[0m\u001b[0;34m.\u001b[0m\u001b[0;34m\u001b[0m\u001b[0m\n\u001b[1;32m     22\u001b[0m         \"\"\"\n\u001b[0;32m---> 23\u001b[0;31m         \u001b[0mself\u001b[0m\u001b[0;34m.\u001b[0m\u001b[0mconnectCam\u001b[0m\u001b[0;34m(\u001b[0m\u001b[0mint\u001b[0m\u001b[0;34m(\u001b[0m\u001b[0mserial\u001b[0m\u001b[0;34m)\u001b[0m\u001b[0;34m)\u001b[0m\u001b[0;34m\u001b[0m\u001b[0m\n\u001b[0m\u001b[1;32m     24\u001b[0m         \u001b[0mself\u001b[0m\u001b[0;34m.\u001b[0m\u001b[0msetupCam\u001b[0m\u001b[0;34m(\u001b[0m\u001b[0mserial\u001b[0m\u001b[0;34m)\u001b[0m\u001b[0;34m\u001b[0m\u001b[0m\n\u001b[1;32m     25\u001b[0m \u001b[0;34m\u001b[0m\u001b[0m\n",
      "\u001b[0;32m~/CU-PWFA/photoDAQ/devices/Camera.py\u001b[0m in \u001b[0;36mconnectCam\u001b[0;34m(self, serial)\u001b[0m\n\u001b[1;32m     40\u001b[0m         \u001b[0;32melse\u001b[0m\u001b[0;34m:\u001b[0m\u001b[0;34m\u001b[0m\u001b[0m\n\u001b[1;32m     41\u001b[0m             \u001b[0mself\u001b[0m\u001b[0;34m.\u001b[0m\u001b[0mcam\u001b[0m \u001b[0;34m=\u001b[0m \u001b[0mpc2\u001b[0m\u001b[0;34m.\u001b[0m\u001b[0mGigECamera\u001b[0m\u001b[0;34m(\u001b[0m\u001b[0;34m)\u001b[0m\u001b[0;34m\u001b[0m\u001b[0m\n\u001b[0;32m---> 42\u001b[0;31m             \u001b[0mself\u001b[0m\u001b[0;34m.\u001b[0m\u001b[0mguid\u001b[0m \u001b[0;34m=\u001b[0m \u001b[0mself\u001b[0m\u001b[0;34m.\u001b[0m\u001b[0mbus\u001b[0m\u001b[0;34m.\u001b[0m\u001b[0mgetCameraFromSerialNumber\u001b[0m\u001b[0;34m(\u001b[0m\u001b[0mserial\u001b[0m\u001b[0;34m)\u001b[0m\u001b[0;34m\u001b[0m\u001b[0m\n\u001b[0m\u001b[1;32m     43\u001b[0m             \u001b[0;32mtry\u001b[0m\u001b[0;34m:\u001b[0m\u001b[0;34m\u001b[0m\u001b[0m\n\u001b[1;32m     44\u001b[0m                 \u001b[0mself\u001b[0m\u001b[0;34m.\u001b[0m\u001b[0mcam\u001b[0m\u001b[0;34m.\u001b[0m\u001b[0mconnect\u001b[0m\u001b[0;34m(\u001b[0m\u001b[0mself\u001b[0m\u001b[0;34m.\u001b[0m\u001b[0mguid\u001b[0m\u001b[0;34m)\u001b[0m\u001b[0;34m\u001b[0m\u001b[0m\n",
      "\u001b[0;32msrc\\cython\\PyCapture2.pyx\u001b[0m in \u001b[0;36mPyCapture2.BusManager.getCameraFromSerialNumber (src/python3/PyCapture2.c:31645)\u001b[0;34m()\u001b[0m\n",
      "\u001b[0;32msrc\\cython\\PyCapture2.pyx\u001b[0m in \u001b[0;36mPyCapture2.checkError (src/python3/PyCapture2.c:36622)\u001b[0;34m()\u001b[0m\n",
      "\u001b[0;31mFc2error\u001b[0m: b'Bus Master Failure.'"
     ]
    }
   ],
   "source": [
    "%aimport devices.Camera\n",
    "cam = devices.Camera.Camera(17529184)"
   ]
  },
  {
   "cell_type": "code",
   "execution_count": null,
   "metadata": {
    "collapsed": true
   },
   "outputs": [],
   "source": [
    "#PROP = pc2.PROPERTY_TYPE.SHARPNESS\n",
    "#PROP = pc2.PROPERTY_TYPE.BRIGHTNESS\n",
    "#PROP = pc2.PROPERTY_TYPE.AUTO_EXPOSURE\n",
    "PROP = pc2.PROPERTY_TYPE.BRIGHTNESS\n",
    "prop = cam.cam.getProperty(PROP)\n",
    "info = cam.cam.getPropertyInfo(PROP)\n",
    "print('Present:', info.present)\n",
    "print('Auto supported:', info.autoSupported)\n",
    "print('Manual supported:', info.manualSupported)\n",
    "print('Units:', info.units)\n",
    "print('onOff:', prop.onOff)\n",
    "print('autoManual:', prop.autoManualMode)\n",
    "print('Min:', info.absMin)\n",
    "print('absValue:', prop.absValue)\n",
    "print('Max:', info.absMax)\n",
    "print('Min:', info.min)\n",
    "print('Value:', prop.valueA)\n",
    "print('Max:', info.max)"
   ]
  },
  {
   "cell_type": "code",
   "execution_count": null,
   "metadata": {
    "collapsed": true
   },
   "outputs": [],
   "source": [
    "cam.close()"
   ]
  },
  {
   "cell_type": "code",
   "execution_count": null,
   "metadata": {
    "collapsed": true
   },
   "outputs": [],
   "source": [
    "info = cam.cam.getGigEImageSettings()\n",
    "info.pixelFormat"
   ]
  },
  {
   "cell_type": "code",
   "execution_count": null,
   "metadata": {
    "collapsed": true
   },
   "outputs": [],
   "source": [
    "pc2.PIXEL_FORMAT.RAW16"
   ]
  },
  {
   "cell_type": "code",
   "execution_count": null,
   "metadata": {
    "collapsed": true
   },
   "outputs": [],
   "source": [
    "image = cam.take_photo()"
   ]
  },
  {
   "cell_type": "code",
   "execution_count": null,
   "metadata": {
    "collapsed": true
   },
   "outputs": [],
   "source": [
    "print(len(image.getData())/(2048*1536))\n",
    "print(image.getData()[0:100])"
   ]
  },
  {
   "cell_type": "code",
   "execution_count": null,
   "metadata": {
    "collapsed": true
   },
   "outputs": [],
   "source": [
    "%timeit image.save(b'/media/robert/Data_Storage/daq/test.tiff', pc2.IMAGE_FILE_FORMAT.TIFF)"
   ]
  },
  {
   "cell_type": "code",
   "execution_count": null,
   "metadata": {
    "collapsed": true
   },
   "outputs": [],
   "source": [
    "tiff = plt.imread('/media/robert/Data_Storage/daq/test.tiff')\n",
    "plt.imshow(tiff/16)\n",
    "plt.colorbar()\n",
    "plt.show()"
   ]
  },
  {
   "cell_type": "code",
   "execution_count": null,
   "metadata": {
    "collapsed": true
   },
   "outputs": [],
   "source": [
    "from PIL import Image\n",
    "im = Image.open('/media/robert/Data_Storage/daq/test.tiff')\n",
    "im.info"
   ]
  },
  {
   "cell_type": "code",
   "execution_count": null,
   "metadata": {
    "collapsed": true
   },
   "outputs": [],
   "source": [
    "shutPROP = pc2.PROPERTY_TYPE.SHUTTER\n",
    "shut = cam.cam.getProperty(shutPROP)\n",
    "print(shut)"
   ]
  },
  {
   "cell_type": "code",
   "execution_count": null,
   "metadata": {
    "collapsed": true
   },
   "outputs": [],
   "source": [
    "cam.cam.disconnect()"
   ]
  },
  {
   "cell_type": "code",
   "execution_count": null,
   "metadata": {
    "collapsed": true
   },
   "outputs": [],
   "source": [
    "daq.main([['Camera'], [17571186], 'cam_test', 10])"
   ]
  },
  {
   "cell_type": "code",
   "execution_count": null,
   "metadata": {
    "collapsed": true
   },
   "outputs": [],
   "source": [
    "from PIL import Image\n",
    "dataSet = 1806150049\n",
    "\n",
    "image = file.load_IMAGE(17583372, dataSet, 10)\n",
    "print(file.decode_image_meta(image))"
   ]
  },
  {
   "cell_type": "code",
   "execution_count": null,
   "metadata": {
    "collapsed": true
   },
   "outputs": [],
   "source": [
    "tiff = plt.imread('/media/robert/Data_Storage/daq/IMAGE/year_2018/month_06/day_15/1806150049/17583372_1806150049_0010.tiff')\n",
    "plt.imshow(tiff)\n",
    "plt.colorbar()\n",
    "plt.show()"
   ]
  },
  {
   "cell_type": "code",
   "execution_count": null,
   "metadata": {
    "collapsed": true
   },
   "outputs": [],
   "source": [
    "import time\n",
    "def callback(image, i):\n",
    "    image.save(bytes('test.tiff', 'utf-8'), pc2.IMAGE_FILE_FORMAT.TIFF)\n",
    "    print(time.clock())\n",
    "#cam.cam.startCapture(callback)\n",
    "cam.start_capture(callback)#, args=(1,))\n",
    "time.sleep(1)\n",
    "cam.cam.stopCapture()"
   ]
  },
  {
   "cell_type": "code",
   "execution_count": 1,
   "metadata": {},
   "outputs": [
    {
     "name": "stdout",
     "output_type": "stream",
     "text": [
      "169 ms ± 209 µs per loop (mean ± std. dev. of 7 runs, 10 loops each)\n"
     ]
    }
   ],
   "source": [
    "# Cython implementation\n",
    "import sys\n",
    "sys.path.append('../')\n",
    "import numpy as np\n",
    "from calc.camera import convert_image\n",
    "raw = [i % 200 for i in range(8000000)]\n",
    "height = 2000\n",
    "width = 2000\n",
    "%timeit data = convert_image(raw, height, width)"
   ]
  },
  {
   "cell_type": "code",
   "execution_count": 2,
   "metadata": {},
   "outputs": [
    {
     "name": "stdout",
     "output_type": "stream",
     "text": [
      "37 ms ± 8.64 µs per loop (mean ± std. dev. of 7 runs, 10 loops each)\n",
      "576 ns ± 5.77 ns per loop (mean ± std. dev. of 7 runs, 1000000 loops each)\n",
      "234 ns ± 0.845 ns per loop (mean ± std. dev. of 7 runs, 1000000 loops each)\n",
      "37 ms ± 18.8 µs per loop (mean ± std. dev. of 7 runs, 10 loops each)\n"
     ]
    }
   ],
   "source": [
    "raw = [i % 200 for i in range(8000000)]\n",
    "height = 2000\n",
    "width = 2000\n",
    "b = bytes(raw)\n",
    "numpy_array = np.frombuffer(b, dtype=np.uint16)\n",
    "%timeit bytes(raw)\n",
    "%timeit np.frombuffer(b, dtype=np.uint16)\n",
    "%timeit numpy_array.reshape(height, width)\n",
    "%timeit np.frombuffer(bytes(raw), dtype=np.uint16).reshape(height, width) "
   ]
  }
 ],
 "metadata": {
  "kernelspec": {
   "display_name": "CU-PWFA",
   "language": "python",
   "name": "cu-pwfa"
  },
  "language_info": {
   "codemirror_mode": {
    "name": "ipython",
    "version": 3
   },
   "file_extension": ".py",
   "mimetype": "text/x-python",
   "name": "python",
   "nbconvert_exporter": "python",
   "pygments_lexer": "ipython3",
   "version": "3.6.2"
  }
 },
 "nbformat": 4,
 "nbformat_minor": 2
}

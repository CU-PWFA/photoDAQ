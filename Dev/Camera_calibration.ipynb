{
 "cells": [
  {
   "cell_type": "code",
   "execution_count": 1,
   "metadata": {
    "collapsed": true,
    "tags": []
   },
   "outputs": [],
   "source": [
    "import numpy as np\n",
    "import sys\n",
    "import numpy\n",
    "import matplotlib.pyplot as plt\n",
    "from PIL import Image"
   ]
  },
  {
   "cell_type": "code",
   "execution_count": 2,
   "metadata": {
    "collapsed": true
   },
   "outputs": [],
   "source": [
    "# ------- Functions to help calculate resolution of cameras ---------------------\n",
    "\n",
    "def find_change(arr, value):  \n",
    "    # Finds indices of array where the pixel value between index i and i+2 is greater than the specified value.\n",
    "    # Input:\n",
    "        # arr: array of pixel values of row or column. Ex: arr = imarray[100,:].\n",
    "        # value: int. Amount by which the pixel value at index i+2 must differ from pixel value at i to be \n",
    "        #             counted as an edge. \n",
    "    # Returns:\n",
    "        # indices: list of indices.\n",
    "    indices = []\n",
    "    for idx, x in np.ndenumerate(arr):\n",
    "        for i in idx:\n",
    "            if i < len(arr)-2:\n",
    "                if abs(int(arr[i]) - int(arr[i + 2])) > value:\n",
    "                    indices.append(i)\n",
    "    return indices\n",
    "\n",
    "def split_nonconsec(arr):  \n",
    "    # Splits an array into multiple arrays at non-consecutive values.\n",
    "    # Input:\n",
    "        # arr: array.\n",
    "    # Returns:\n",
    "        # split_arrs: list of arrays of consecutive values.\n",
    "    non_consec= []\n",
    "    for i in range(len(arr)-1):\n",
    "        if arr[i+1] != arr[i]+1:\n",
    "            non_consec.append(i+1)\n",
    "    split_arrs = np.split(arr, non_consec)\n",
    "    return split_arrs\n",
    "\n",
    "def midpoints(split_arrs):  \n",
    "    #Finds midpoint of an array of consecutive values and rounds it to nearest integer.\n",
    "    # Input:\n",
    "        # split_arrs: list of arrays. \n",
    "    # Returns:\n",
    "        # mids: list of midpoints.\n",
    "    mids = []\n",
    "    for arr in split_arrs:\n",
    "        mids.append(round(sum(arr)/len(arr)))\n",
    "    return mids\n",
    "\n",
    "def find_edges(arr, value):\n",
    "    # Finds the edges where the pixel value changes more than the specified value by finding the midpoint \n",
    "    # of each group of consecutive changing indices.\n",
    "    # Input: \n",
    "        # arr: array of pixel values of the row or column being analyzed. Ex: arr = imarray[100,:].\n",
    "        # value: int. Amount by which the pixel value at index i+2 must differ from pixel value at i to be \n",
    "        #             counted as an edge. \n",
    "    # Returns:\n",
    "        # edges: list of index values that define each edge. \n",
    "    change = find_change(arr, value)\n",
    "    split_arrs = split_nonconsec(change)\n",
    "    edges = midpoints(split_arrs)\n",
    "    return edges\n",
    "\n",
    "def find_incr(arr, edges):\n",
    "    # Finds the values of the edges with increasing slope\n",
    "    # Input: \n",
    "        # arr: array of pixel values of the row or column being analyzed. Ex: arr = imarray[100,:].\n",
    "        # edges: array of edge values (output of find_edges function)\n",
    "    # Returns: \n",
    "        # incr: list of index values of edges with increasing slope\n",
    "    incr = []\n",
    "    for edg in edges:\n",
    "        if int(arr[int(edg)])> int(arr[int(edg-2)]):\n",
    "            incr.append(int(edg))\n",
    "    return incr\n",
    "\n",
    "def find_decr(arr, edges):\n",
    "    # Finds the values of the edges with decreasing slope\n",
    "    # Input: \n",
    "        # arr: array of pixel values of the row or column being analyzed.\n",
    "        # edges: array of edge values (output of find_edges function)\n",
    "    # Returns: \n",
    "        # decr: list of index values of edges with decreasing slope\n",
    "    decr = []\n",
    "    for edg in edges:\n",
    "        if int(arr[int(edg)]) < int(arr[int(edg-2)]):\n",
    "            decr.append(int(edg))\n",
    "    return decr\n",
    "\n",
    "def horiz_lines(xmin, xmax, ymin, ymax, lppmm, value=5000):\n",
    "    # Calculates the average horizontal line pair width and the average pixels per mm for a specific group\n",
    "    # and element. Image array must be named imarray.\n",
    "    # Input:\n",
    "        # xmin, xmax: int. Minimum and maximum x values of image segment. For horizontal lines, xmin and xmax\n",
    "        #             should be within the edges of the black lines\n",
    "        # ymin, ymax: int. Minumum and maximum y values of image segment. For horizontal lines, ymin and ymax\n",
    "        #             should be well outside the edges of the black lines. \n",
    "        # lppmm: int. Number of line pairs per mm for the group and element being analyzed. Found in online\n",
    "        #             specs for specific Air Force Target. \n",
    "        # value: int. Amount by which the pixel values must differ to be counted as an edge. Default is 5000.\n",
    "    # Output: Prints the calculated average pixels per mm and average pixel width in um. \n",
    "\n",
    "    segment = imarray[ymin:ymax,xmin:xmax]\n",
    "    wid = segment.shape[1]\n",
    "#    plt.imshow(segment)   # Displays image segment\n",
    "    width = []  # Array for width of horizontal lines\n",
    "    for i in np.arange(0,wid,1):\n",
    "        row = segment[:,i]\n",
    "        edg = find_edges(row, value)\n",
    "        incr = find_incr(row, edg)\n",
    "        decr = find_decr(row, edg)\n",
    "        for i in range(len(decr)-1):\n",
    "            width.append(decr[i+1]-decr[i])\n",
    "        for j in range(len(incr)-1):\n",
    "            width.append(incr[j+1]-incr[j])\n",
    "    avg_width = round(sum(width)/len(width),2)\n",
    "#    print('Avg. horiz. line pair width = ' + str(avg_width) + ' pixels/line pair')\n",
    "    pixels_mm = avg_width * lppmm\n",
    "    pixel_width = 1/pixels_mm\n",
    "    print('Avg. pixels/mm: ' + str(round(pixels_mm,2)))\n",
    "    print('Avg. pixel width: ' + str(round(pixel_width*10**3,2)) + ' \\u03BC'+ 'm')\n",
    "\n",
    "def vert_lines(xmin, xmax, ymin, ymax, lppmm, value=5000):\n",
    "    # Calculates the average vertical line pair width and the average pixels per mm for a specific group\n",
    "    # and element. Image array must be named imarray. \n",
    "    # Input:\n",
    "        # xmin, xmax: int. Minimum and maximum x values of image segment. For vertical lines, xmin and xmax\n",
    "        #             should be well outside the edges of the black lines\n",
    "        # ymin, ymax: int. Minumum and maximum y values of image segment. For vertical lines, ymin and ymax\n",
    "        #             should be within the edges of the black lines. \n",
    "        # lppmm: int. Number of line pairs per mm for the group and element being analyzed. Found in online\n",
    "        #             specs for specific Air Force Target. \n",
    "        # value: int. Amount by which the pixel values must differ to be counted as an edge. Default is 5000.\n",
    "    # Output: Prints the calculated average pixels per mm and average pixel width in um. \n",
    "\n",
    "    segment = imarray[ymin:ymax,xmin:xmax]\n",
    "    height = segment.shape[0]\n",
    "#    plt.imshow(segment)  # Displays image segment\n",
    "    width = []  # Array for width of horizontal lines\n",
    "    for i in np.arange(0,height,1):\n",
    "        row = segment[i,:]\n",
    "        edg = find_edges(row, value)\n",
    "        incr = find_incr(row, edg)\n",
    "        decr = find_decr(row, edg)\n",
    "        for i in range(len(decr)-1):\n",
    "            width.append(decr[i+1]-decr[i])\n",
    "        for j in range(len(incr)-1):\n",
    "            width.append(incr[j+1]-incr[j])\n",
    "    avg_width = round(sum(width)/len(width),2)\n",
    "#    print('Avg. vert. line pair width = ' + str(avg_width) + ' pixels/line pair')\n",
    "    pixels_mm = avg_width * lppmm\n",
    "    pixel_width = 1/pixels_mm\n",
    "    print('Avg. pixels/mm: ' + str(round(pixels_mm,2)))\n",
    "    print('Avg. pixel width: ' + str(round(pixel_width*10**3,2)) + ' \\u03BC'+'m')\n",
    "\n",
    "def avg_ratio_horiz(xmin, xmax, ymin, ymax):\n",
    "    # Finds average ratio of min pixel value to max pixel value per column in a set of horizontal lines. \n",
    "    # Input: \n",
    "        # xmin, xmax: int. Min and max x values of image segment. For horizontal lines, xmin and xmax\n",
    "        #             should be inside the edges of the black lines\n",
    "        # ymin, ymax: int. Minumum and maximum y values of image segment. For horizontal lines, ymin and ymax\n",
    "        #             should be well outside the edges of the black lines.\n",
    "    # Returns: \n",
    "        # avg_ratio: float64. \n",
    "    \n",
    "    segment = imarray[ymin:ymax,xmin:xmax]\n",
    "    wid = segment.shape[1]\n",
    "    ratios = []\n",
    "    for i in np.arange(0,wid,1):\n",
    "        col = segment[:,i]\n",
    "        min_val = np.amin(col)\n",
    "        max_val = np.amax(col)\n",
    "        ratios.append(min_val/max_val)\n",
    "    avg_ratio = round(sum(ratios)/len(ratios),4)\n",
    "    return avg_ratio\n",
    "\n",
    "def avg_ratio_vert(xmin, xmax, ymin, ymax):\n",
    "    # Finds average ratio of min pixel value to max pixel value per column in a set of horizontal lines. \n",
    "    # Input: \n",
    "        # xmin, xmax: int. Min and max x values of image segment. For vertical lines, xmin and xmax\n",
    "        #             should be well outside the edges of the black lines\n",
    "        # ymin, ymax: int. Min and max y values of image segment. For vertical lines, ymin and ymax\n",
    "        #             should be inside the edges of the black lines.\n",
    "    # Returns: \n",
    "        # avg_ratio: float64. \n",
    "        \n",
    "    segment = imarray[ymin:ymax,xmin:xmax]\n",
    "    height = segment.shape[0]\n",
    "    ratios = []\n",
    "    for i in np.arange(0,height,1):\n",
    "        row = segment[i,:]\n",
    "        min_val = np.amin(row)\n",
    "        max_val = np.amax(row)\n",
    "        ratios.append(min_val/max_val)\n",
    "    avg_ratio = round(sum(ratios)/len(ratios),4)\n",
    "    return avg_ratio\n",
    "\n",
    "#----------- Extra functions that might be useful ------------------\n",
    "\n",
    "def find_midpoints(edges):\n",
    "    # Finds the midpoints between the edges. \n",
    "    # Input: \n",
    "        # edges: array of edge values (output of find_edges function)\n",
    "    # Returns:\n",
    "        # midpoints: list of midpoint values. \n",
    "    midpoints = []\n",
    "    for i in range(len(edges)-1):\n",
    "        midpoints.append((edges[i] + (edges[i+1]))/2)\n",
    "    return midpoints\n",
    "\n",
    "def print_edge_values(arr, edges):\n",
    "    # Prints a table of the indices and the pixel values at each edge\n",
    "    # Input:\n",
    "        # arr: array of pixel values of the row or column being analyzed.\n",
    "        # edges: array of edge values (output of find_edges function)\n",
    "    print('Edges \\nIndex  Value')\n",
    "    for edge in edges:\n",
    "        print(str(edge) + ': '+ str(arr[int(edge)]))\n",
    "\n",
    "def print_mid_values(arr, midpoints):\n",
    "    #Prints a table of the midpoints' indices, pixel values, and relative color (light or dark)\n",
    "    # Input:\n",
    "        # arr: array of pixel values of the row or column being analyzed.\n",
    "        # midpoints: array of midpoint values (output of find_midpoints function)\n",
    "    print('Midpoints\\nIndex     Value     Color')\n",
    "    if arr[int(midpoints[0])-int(midpoints[0]/2)]<arr[int(midpoints[0])]:\n",
    "            print(str(midpoints[0]-int(midpoints[0]/2))+ '      ' + str(arr[int(midpoints[0]-int(midpoints[0]/2))]) + '    dark')\n",
    "    elif arr[int(midpoints[0])-int(midpoints[0]/2)]>arr[int(midpoints[0])]:\n",
    "            print(str(midpoints[0]-int(midpoints[0]/2))+ '      ' + str(arr[int(midpoints[0]-int(midpoints[0]/2))]) + '    light')\n",
    "\n",
    "    for i in range(len(midpoints)-1):\n",
    "        if i==0:\n",
    "            if arr[int(midpoints[i])]<arr[int(midpoints[i+1])]:\n",
    "                print(str(midpoints[i])+ '      ' + str(arr[int(midpoints[i])]) + '    dark')\n",
    "            elif arr[int(midpoints[i])]>arr[int(midpoints[i+1])]:\n",
    "                print(str(midpoints[i])+ '      ' + str(arr[int(midpoints[i])]) + '   light')\n",
    "        elif i==len(midpoints)-1:\n",
    "            if arr[int(midpoints[i])]<arr[int(midpoints[i-1])]:\n",
    "                print(str(midpoints[i])+ '      ' + str(arr[int(midpoints[i])]) + '    dark')\n",
    "            elif arr[int(midpoints[i])]>arr[int(midpoints[i-1])]:\n",
    "                print(str(midpoints[i])+ '      ' + str(arr[int(midpoints[i])]) + '   light')\n",
    "        else:\n",
    "            if arr[int(midpoints[i])]<arr[int(midpoints[i+1])] and arr[int(midpoints[i])]<arr[int(midpoints[i-1])]:\n",
    "                print(str(midpoints[i])+ '      ' + str(arr[int(midpoints[i])]) + '    dark')\n",
    "            elif arr[int(midpoints[i])]>arr[int(midpoints[i+1])] and arr[int(midpoints[i])]>arr[int(midpoints[i-1])]:\n",
    "                print(str(midpoints[i])+ '      ' + str(arr[int(midpoints[i])]) + '   light')"
   ]
  },
  {
   "cell_type": "code",
   "execution_count": 3,
   "metadata": {},
   "outputs": [
    {
     "data": {
      "text/plain": [
       "<matplotlib.image.AxesImage at 0x7fdf5e5fcb38>"
      ]
     },
     "execution_count": 3,
     "metadata": {},
     "output_type": "execute_result"
    }
   ],
   "source": [
    "im = Image.open('image_1.tiff')\n",
    "imarray = numpy.array(im)\n",
    "%matplotlib tk\n",
    "plt.imshow(imarray)   #Plot the image in a popout window"
   ]
  },
  {
   "cell_type": "code",
   "execution_count": 41,
   "metadata": {},
   "outputs": [
    {
     "name": "stdout",
     "output_type": "stream",
     "text": [
      "Avg. pixels/mm: 137.85\n",
      "Avg. pixel width: 7.25 μm\n"
     ]
    }
   ],
   "source": [
    "# Analyzing Group 3, Element 6, horizontal lines\n",
    "# Horizontal lines extend from x = 602 to 620 and y = 870 to 900 \n",
    "# Number of line pairs per mm is 14.30\n",
    "horiz_lines(602,620,870,900,14.30,2000)"
   ]
  },
  {
   "cell_type": "code",
   "execution_count": 42,
   "metadata": {},
   "outputs": [
    {
     "name": "stdout",
     "output_type": "stream",
     "text": [
      "Avg. pixels/mm: 133.69\n",
      "Avg. pixel width: 7.48 μm\n"
     ]
    }
   ],
   "source": [
    "# Analyzing Group 2, Element 6, vertical lines\n",
    "# Vertical lines extend from x = 885 to 950 and y = 731 to 771 \n",
    "# Number of line pairs per mm is 7.13\n",
    "vert_lines(885,950,731,771,7.13,5000)"
   ]
  },
  {
   "cell_type": "code",
   "execution_count": 43,
   "metadata": {},
   "outputs": [
    {
     "name": "stdout",
     "output_type": "stream",
     "text": [
      "Avg. pixels/mm: 135.4\n",
      "Avg. pixel width: 7.39 μm\n"
     ]
    }
   ],
   "source": [
    "# Analyzing Group 2, Element 6, horizontal lines\n",
    "# Horiz lines extend from x = 963 to 1003 and y = 720 to 780\n",
    "# Number of line pairs per mm is 7.13\n",
    "horiz_lines(963,1003,720,780,7.13,5000)"
   ]
  },
  {
   "cell_type": "code",
   "execution_count": 53,
   "metadata": {},
   "outputs": [
    {
     "name": "stdout",
     "output_type": "stream",
     "text": [
      "Avg. pixels/mm: 137.48\n",
      "Avg. pixel width: 7.27 μm\n"
     ]
    }
   ],
   "source": [
    "# Analyzing Group 0, Element 1, horizontal lines\n",
    "# Horiz lines extend from x = 188 to 385 and y = 20 to y = 400\n",
    "# Number of line pairs per mm is 1.00\n",
    "horiz_lines(188, 385, 20, 400, 1.00, 8000)"
   ]
  },
  {
   "cell_type": "code",
   "execution_count": 52,
   "metadata": {},
   "outputs": [
    {
     "name": "stdout",
     "output_type": "stream",
     "text": [
      "Avg. pixels/mm: 137.36\n",
      "Avg. pixel width: 7.28 μm\n"
     ]
    }
   ],
   "source": [
    "# Analyzing Group 0, Element 1, vertical lines\n",
    "# Vertical lines extend from x = 647 to 1018 and y = 53 to y = 386\n",
    "# Number of line pairs per mm is 1.00\n",
    "vert_lines(647, 1018, 53, 386, 1.00, 8000)"
   ]
  },
  {
   "cell_type": "code",
   "execution_count": 46,
   "metadata": {},
   "outputs": [
    {
     "name": "stdout",
     "output_type": "stream",
     "text": [
      "Avg. pixels/mm: 135.0\n",
      "Avg. pixel width: 7.41 μm\n"
     ]
    }
   ],
   "source": [
    "# Analyzing Group 0, Element 6, vertical lines\n",
    "# Vertical lines extend from x = 1351 to 1564 and y = 58 to y = 239\n",
    "# Number of line pairs per mm is 1.00\n",
    "vert_lines(1351, 1564, 58, 239, 1.78, 8000)"
   ]
  },
  {
   "cell_type": "code",
   "execution_count": 85,
   "metadata": {},
   "outputs": [
    {
     "name": "stdout",
     "output_type": "stream",
     "text": [
      "4/6: 0.69705\n",
      "4/5: 0.66635\n",
      "4/2: 0.5809\n",
      "3/1: 0.29485\n",
      "3/4: 0.3594\n",
      "3/6: 0.42355\n",
      "4/1: 0.48945\n",
      "4/2: 0.5692999999999999\n",
      "5/4: 0.81705\n",
      "5/3: 0.7987\n"
     ]
    }
   ],
   "source": [
    "# Calculating average ratio of min to max pixel values to find which group and element has ratio closest to 0.5.\n",
    "\n",
    "# Group 4, Element 6:\n",
    "vert46 = avg_ratio_vert(785,796,889,898)\n",
    "horiz46 = avg_ratio_horiz(803,812,889,900)\n",
    "print('4/6: ' + str((vert46+horiz46)/2))\n",
    "\n",
    "# Group 4, Element 5:\n",
    "vert45 = avg_ratio_vert(781,793,906,918)\n",
    "horiz45 = avg_ratio_horiz(801,812,905,919)\n",
    "print('4/5: ' + str((vert45+horiz45)/2))\n",
    "\n",
    "# Group 4, Element 2:\n",
    "vert42 = avg_ratio_vert(768,786,971,988)\n",
    "horiz42 = avg_ratio_horiz(794,812,969,988)\n",
    "print('4/2: ' + str((vert42+horiz42)/2))\n",
    "\n",
    "# Group 3, Element 1:\n",
    "vert31 = avg_ratio_vert(659,700,1094,1136)\n",
    "horiz31 = avg_ratio_horiz(600,640,1094,1136)\n",
    "print('3/1: ' + str((vert31+horiz31)/2))\n",
    "\n",
    "# Group 3, Element 4:\n",
    "vert34 = avg_ratio_vert(643,668,948,974)\n",
    "horiz34 = avg_ratio_horiz(600,628,947,974)\n",
    "print('3/4: ' + str((vert34+horiz34)/2))\n",
    "\n",
    "# Group 3, Element 6:\n",
    "vert36 = avg_ratio_vert(633,655,875,896)\n",
    "horiz36 = avg_ratio_horiz(602,621,875,896)\n",
    "print('3/6: ' + str((vert36+horiz36)/2))\n",
    "\n",
    "# Group 4, Element 1:\n",
    "vert41 = avg_ratio_vert(743,762,890,909)\n",
    "horiz41 = avg_ratio_horiz(714,733,889,909)\n",
    "print('4/1: ' + str((vert41+horiz41)/2))\n",
    "\n",
    "# Group 4, Element 2:\n",
    "vert42 = avg_ratio_vert(769,785,971,986)\n",
    "horiz42 = avg_ratio_horiz(796,810,971,987)\n",
    "print('4/2: ' + str((vert42+horiz42)/2))\n",
    "\n",
    "# Group 5, Element 4:\n",
    "vert54 = avg_ratio_vert(724,731,943,949)\n",
    "horiz54 = avg_ratio_horiz(714,720,943,950)\n",
    "print('5/4: ' + str((vert54+horiz54)/2))\n",
    "\n",
    "# Group 5, Element 3:\n",
    "vert53 = avg_ratio_vert(726,733,954,961)\n",
    "horiz53 = avg_ratio_horiz(714,721,953,961)\n",
    "print('5/3: ' + str((vert53+horiz53)/2))"
   ]
  },
  {
   "cell_type": "code",
   "execution_count": 11,
   "metadata": {
    "collapsed": true
   },
   "outputs": [],
   "source": [
    "# Extra commands:\n",
    "\n",
    "#numpy.set_printoptions(threshold=sys.maxsize)  # Display entire array\n",
    "\n",
    "#im.size  # (width, height)\n",
    "#imarray.shape #(height, width)\n",
    "#indexing a 2D array: imarry[row][column]\n",
    "\n",
    "#min_value = np.amin(test)\n",
    "#print('Min value = ' + str(min_value))\n",
    "\n",
    "#max_value = np.amax(test)\n",
    "#print('Max value = ' + str(max_value))\n",
    "\n",
    "#avg_value = np.average(test)\n",
    "#print('Avg value = ' + str(avg_value))\n",
    "\n",
    "#min_value_index = np.argmin(test)\n",
    "#print(min_value_index)\n",
    "\n",
    "#row100 = imarray[100,:]\n",
    "#ed = find_edges(row100, 5000)\n",
    "#mid = find_midpoints(ed)\n",
    "#print_edge_values(row100, ed)\n",
    "#print_mid_values(row100, mid)\n",
    "#print(ed)\n",
    "#print(find_incr(row100, ed))\n",
    "#print(find_decr(row100, ed))\n",
    "\n",
    "# -- Plot a lineout ----\n",
    "row100 = imarray[100,:]\n",
    "plt.plot(row100, label=\"Row 100\")\n",
    "#plt.scatter(range(len(row100)),row100)\n",
    "#plt.legend(loc = 'upper right')\n",
    "plt.xlabel('Pixel number')\n",
    "plt.ylabel('Pixel value')\n",
    "plt.show()"
   ]
  },
  {
   "cell_type": "code",
   "execution_count": null,
   "metadata": {
    "collapsed": true
   },
   "outputs": [],
   "source": []
  }
 ],
 "metadata": {
  "kernelspec": {
   "display_name": "CU-PWFA",
   "language": "python",
   "name": "cu-pwfa"
  },
  "language_info": {
   "codemirror_mode": {
    "name": "ipython",
    "version": 3
   },
   "file_extension": ".py",
   "mimetype": "text/x-python",
   "name": "python",
   "nbconvert_exporter": "python",
   "pygments_lexer": "ipython3",
   "version": "3.6.2"
  }
 },
 "nbformat": 4,
 "nbformat_minor": 4
}
